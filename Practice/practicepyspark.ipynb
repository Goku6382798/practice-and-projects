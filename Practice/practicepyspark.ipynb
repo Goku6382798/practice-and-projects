{
 "cells": [
  {
   "cell_type": "code",
   "execution_count": 127,
   "metadata": {},
   "outputs": [],
   "source": [
    "from pyspark.sql import SparkSession\n",
    "from pyspark.sql.window import Window\n",
    "from pyspark.sql.functions import col, sum, mean, count, lower, lit, year, month, concat_ws, date_format, cast, rank\n",
    "from pyspark.sql.types import StructType, StructField, IntegerType, StringType\n",
    "import json"
   ]
  },
  {
   "cell_type": "code",
   "execution_count": 35,
   "metadata": {},
   "outputs": [],
   "source": [
    "#Some importand properties for config and Master\n",
    "#Property\t                            Description\n",
    "#\"spark.ui.port\"\t                    Changes Spark UI Web Port (default: 4040)\n",
    "#\"spark.executor.memory\"\t            Memory per executor (e.g., \"4g\")\n",
    "#\"spark.executor.cores\"\t                Number of cores per executor (e.g., \"2\")\n",
    "#\"spark.driver.memory\"\t                Memory allocated to the driver (e.g., \"2g\")\n",
    "#\"spark.sql.shuffle.partitions\"\t        Number of partitions for shuffle operations (default: 200)\n",
    "#\"spark.default.parallelism\"\t        Default number of partitions for RDD operations\n",
    "#\"spark.serializer\"\t                    Serializer to use (e.g., \"org.apache.spark.serializer.KryoSerializer\")\n",
    "#\"spark.sql.execution.arrow.enabled\"\tEnable Pandas UDFs for performance (true/false)\n",
    "#\"spark.sql.warehouse.dir\"\t            Path to warehouse directory for Hive tables\n",
    "#\"spark.yarn.queue\"\t                    Sets YARN queue for Spark jobs\n",
    "\n",
    "\n",
    "#Master\t                                Description\n",
    "#\"local\"\t                            Run Spark on one thread (for debugging)\n",
    "#\"local[*]\"\t                            Run Spark using all available cores on the machine\n",
    "#\"local[4]\"\t                            Run Spark with 4 threads\n",
    "#\"yarn\"\t                                Run Spark on YARN cluster (Hadoop)\n",
    "#\"mesos://host:port\"\t                Run on Apache Mesos\n",
    "#\"spark://host:port\"\t                Run on Spark Standalone Cluster\n",
    "#\"k8s://host:port\"\t                    Run on Kubernetes"
   ]
  },
  {
   "cell_type": "code",
   "execution_count": null,
   "metadata": {},
   "outputs": [
    {
     "name": "stderr",
     "output_type": "stream",
     "text": [
      "25/02/10 00:53:03 WARN Utils: Your hostname, gautam-Aspire-E5-576 resolves to a loopback address: 127.0.1.1; using 192.168.1.37 instead (on interface wlp2s0)\n",
      "25/02/10 00:53:03 WARN Utils: Set SPARK_LOCAL_IP if you need to bind to another address\n",
      "Setting default log level to \"WARN\".\n",
      "To adjust logging level use sc.setLogLevel(newLevel). For SparkR, use setLogLevel(newLevel).\n",
      "25/02/10 00:53:05 WARN NativeCodeLoader: Unable to load native-hadoop library for your platform... using builtin-java classes where applicable\n"
     ]
    }
   ],
   "source": [
    "spark = SparkSession.builder.appName(\"Orders_Schema\").getOrCreate()"
   ]
  },
  {
   "cell_type": "code",
   "execution_count": null,
   "metadata": {},
   "outputs": [
    {
     "name": "stdout",
     "output_type": "stream",
     "text": [
      "\u001b[0;31mType:\u001b[0m        property\n",
      "\u001b[0;31mString form:\u001b[0m <property object at 0x70638cad6f20>\n",
      "\u001b[0;31mDocstring:\u001b[0m  \n",
      "Returns a :class:`DataFrameReader` that can be used to read data\n",
      "in as a :class:`DataFrame`.\n",
      "\n",
      ".. versionadded:: 2.0.0\n",
      "\n",
      ".. versionchanged:: 3.4.0\n",
      "    Supports Spark Connect.\n",
      "\n",
      "Returns\n",
      "-------\n",
      ":class:`DataFrameReader`\n",
      "\n",
      "Examples\n",
      "--------\n",
      ">>> spark.read\n",
      "<...DataFrameReader object ...>\n",
      "\n",
      "Write a DataFrame into a JSON file and read it back.\n",
      "\n",
      ">>> import tempfile\n",
      ">>> with tempfile.TemporaryDirectory() as d:\n",
      "...     # Write a DataFrame into a JSON file\n",
      "...     spark.createDataFrame(\n",
      "...         [{\"age\": 100, \"name\": \"Hyukjin Kwon\"}]\n",
      "...     ).write.mode(\"overwrite\").format(\"json\").save(d)\n",
      "...\n",
      "...     # Read the JSON file as a DataFrame.\n",
      "...     spark.read.format('json').load(d).show()\n",
      "+---+------------+\n",
      "|age|        name|\n",
      "+---+------------+\n",
      "|100|Hyukjin Kwon|\n",
      "+---+------------+"
     ]
    }
   ],
   "source": [
    "orders = spark.read.csv('/home/gautam/airflow/retail_db/orders/part-00000',inferSchema='True',)"
   ]
  },
  {
   "cell_type": "code",
   "execution_count": null,
   "metadata": {},
   "outputs": [],
   "source": [
    "# It works fast and reliable to define the schema \n",
    "from pyspark.sql.types import StructType, StructField, IntegerType, StringType\n",
    "\n",
    "schema = StructType([\n",
    "    StructField(\"order_id\", IntegerType(), True),\n",
    "    StructField(\"order_date\", StringType(), True),\n",
    "    StructField(\"customer_id\", IntegerType(), True),\n",
    "    StructField(\"order_status\", StringType(), True)\n",
    "])\n",
    "\n",
    "orders = spark.read.csv('/home/gautam/airflow/retail_db/orders/part-00000', schema=schema, header=False)\n",
    "orders.show(5)\n"
   ]
  },
  {
   "cell_type": "code",
   "execution_count": null,
   "metadata": {},
   "outputs": [],
   "source": [
    "#the type is changed to tuple as we can add tuple using * before the column name\n",
    "def get_column_names(ds_name, file_path):\n",
    "    with open(file_path, \"r\") as json_file:\n",
    "        data = json.load(json_file)\n",
    "    ku = data[ds_name]\n",
    "    sorted_ku = sorted(ku, key=lambda col:col['column_position'])\n",
    "    xyz2 = tuple(k['column_name'] for k in sorted_ku) \n",
    "    return xyz2"
   ]
  },
  {
   "cell_type": "code",
   "execution_count": 23,
   "metadata": {},
   "outputs": [],
   "source": [
    "orders_column = get_column_names('orders', '/home/gautam/airflow/retail_db/schemas.json')\n",
    "order_items_column = get_column_names('order_items', '/home/gautam/airflow/retail_db/schemas.json')\n",
    "products_column = get_column_names('products', '/home/gautam/airflow/retail_db/schemas.json')\n",
    "categories_column = get_column_names('categories', '/home/gautam/airflow/retail_db/schemas.json')\n",
    "customers_column = get_column_names('customers', '/home/gautam/airflow/retail_db/schemas.json')"
   ]
  },
  {
   "cell_type": "code",
   "execution_count": 26,
   "metadata": {},
   "outputs": [
    {
     "name": "stderr",
     "output_type": "stream",
     "text": [
      "                                                                                \r"
     ]
    }
   ],
   "source": [
    "orders = spark.read.csv('/home/gautam/airflow/retail_db/orders/part-00000',inferSchema='True',).toDF(*orders_column)\n",
    "order_items = spark.read.csv('/home/gautam/airflow/retail_db/order_items/part-00000',inferSchema='True',).toDF(*order_items_column)\n",
    "products = spark.read.csv('/home/gautam/airflow/retail_db/products/part-00000',inferSchema='True',).toDF(*products_column)\n",
    "categories = spark.read.csv('/home/gautam/airflow/retail_db/categories/part-00000',inferSchema='True',).toDF(*categories_column)\n",
    "customers = spark.read.csv('/home/gautam/airflow/retail_db/customers/part-00000',inferSchema='True',).toDF(*customers_column)"
   ]
  },
  {
   "cell_type": "code",
   "execution_count": 27,
   "metadata": {},
   "outputs": [
    {
     "name": "stdout",
     "output_type": "stream",
     "text": [
      "+--------+-------------------+-----------------+---------------+\n",
      "|order_id|         order_date|order_customer_id|   order_status|\n",
      "+--------+-------------------+-----------------+---------------+\n",
      "|       1|2013-07-25 00:00:00|            11599|         CLOSED|\n",
      "|       2|2013-07-25 00:00:00|              256|PENDING_PAYMENT|\n",
      "|       3|2013-07-25 00:00:00|            12111|       COMPLETE|\n",
      "|       4|2013-07-25 00:00:00|             8827|         CLOSED|\n",
      "|       5|2013-07-25 00:00:00|            11318|       COMPLETE|\n",
      "|       6|2013-07-25 00:00:00|             7130|       COMPLETE|\n",
      "|       7|2013-07-25 00:00:00|             4530|       COMPLETE|\n",
      "|       8|2013-07-25 00:00:00|             2911|     PROCESSING|\n",
      "|       9|2013-07-25 00:00:00|             5657|PENDING_PAYMENT|\n",
      "|      10|2013-07-25 00:00:00|             5648|PENDING_PAYMENT|\n",
      "+--------+-------------------+-----------------+---------------+\n",
      "only showing top 10 rows\n",
      "\n"
     ]
    }
   ],
   "source": [
    "orders.show(10)"
   ]
  },
  {
   "cell_type": "code",
   "execution_count": 28,
   "metadata": {},
   "outputs": [],
   "source": [
    "## When their are multiple files in a folder you just have to mention the folder name instead of folder name \n",
    "# And we can use union() as well like we have orders1 and orders2 we will simply use orders1.union(orders2)"
   ]
  },
  {
   "cell_type": "code",
   "execution_count": 29,
   "metadata": {},
   "outputs": [
    {
     "data": {
      "text/plain": [
       "68883"
      ]
     },
     "execution_count": 29,
     "metadata": {},
     "output_type": "execute_result"
    }
   ],
   "source": [
    "orders.count()"
   ]
  },
  {
   "cell_type": "code",
   "execution_count": 30,
   "metadata": {},
   "outputs": [
    {
     "data": {
      "text/plain": [
       "172198"
      ]
     },
     "execution_count": 30,
     "metadata": {},
     "output_type": "execute_result"
    }
   ],
   "source": [
    "order_items.count()"
   ]
  },
  {
   "cell_type": "code",
   "execution_count": 31,
   "metadata": {},
   "outputs": [
    {
     "data": {
      "text/plain": [
       "1345"
      ]
     },
     "execution_count": 31,
     "metadata": {},
     "output_type": "execute_result"
    }
   ],
   "source": [
    "products.count()"
   ]
  },
  {
   "cell_type": "code",
   "execution_count": 32,
   "metadata": {},
   "outputs": [
    {
     "data": {
      "text/plain": [
       "58"
      ]
     },
     "execution_count": 32,
     "metadata": {},
     "output_type": "execute_result"
    }
   ],
   "source": [
    "categories.count()"
   ]
  },
  {
   "cell_type": "code",
   "execution_count": 33,
   "metadata": {},
   "outputs": [],
   "source": [
    "#Check for missing values in each DataFrame."
   ]
  },
  {
   "cell_type": "code",
   "execution_count": null,
   "metadata": {},
   "outputs": [
    {
     "name": "stderr",
     "output_type": "stream",
     "text": [
      "[Stage 33:>                                                         (0 + 1) / 1]\r"
     ]
    },
    {
     "name": "stdout",
     "output_type": "stream",
     "text": [
      "+--------+----------+-----------------+------------+\n",
      "|order_id|order_date|order_customer_id|order_status|\n",
      "+--------+----------+-----------------+------------+\n",
      "|       0|         0|                0|           0|\n",
      "+--------+----------+-----------------+------------+\n",
      "\n"
     ]
    },
    {
     "name": "stderr",
     "output_type": "stream",
     "text": [
      "                                                                                \r"
     ]
    }
   ],
   "source": [
    "# Count missing values for each column\n",
    "missing_counts = orders.select([sum(col(c).isNull().cast(\"int\")).alias(c) for c in orders.columns])\n",
    "missing_counts.show()"
   ]
  },
  {
   "cell_type": "code",
   "execution_count": null,
   "metadata": {},
   "outputs": [],
   "source": [
    "#drop a single column orders = orders.drop(\"order_status\")\n",
    "#mean_value = orders.select(mean(\"order_item_quantity\")).collect()[0][0]  # Get the mean value\n",
    "#orders = orders.fillna({\"order_item_quantity\": mean_value})\n",
    "#expr stands for median\n",
    "\n",
    "#median_value = orders.select(expr(\"percentile_approx(order_item_quantity, 0.5)\")).collect()[0][0]\n",
    "#orders = orders.fillna({\"order_item_quantity\": median_value})\n",
    "\n",
    "#mode_value = orders.groupBy(\"order_item_quantity\").count().orderBy(\"count\", ascending=False).first()[0]\n",
    "#orders = orders.fillna({\"order_item_quantity\": mode_value})\n"
   ]
  },
  {
   "cell_type": "code",
   "execution_count": 42,
   "metadata": {},
   "outputs": [
    {
     "data": {
      "text/plain": [
       "['order_id', 'order_date', 'order_customer_id', 'order_status']"
      ]
     },
     "execution_count": 42,
     "metadata": {},
     "output_type": "execute_result"
    }
   ],
   "source": [
    "orders.columns"
   ]
  },
  {
   "cell_type": "code",
   "execution_count": 43,
   "metadata": {},
   "outputs": [],
   "source": [
    "#Method\t                                    Action\n",
    "#.drop(\"col_name\")\t                        Drops a column\n",
    "#.fillna(value, subset=[\"col1\", \"col2\"])\tReplaces NULL with value\n",
    "#.fillna({\"col1\": value1, \"col2\": value2})\tFill multiple columns\n",
    "#mean()\t                                    Compute mean for numerical columns\n",
    "#expr(\"percentile_approx(col, 0.5)\")\t    Compute median\n",
    "#.groupBy(\"col\").count().orderBy(\"count\", ascending=False).first()[0]\tCompute mode"
   ]
  },
  {
   "cell_type": "code",
   "execution_count": 44,
   "metadata": {},
   "outputs": [
    {
     "name": "stdout",
     "output_type": "stream",
     "text": [
      "+--------+-------------------+-----------------+------------+\n",
      "|order_id|         order_date|order_customer_id|order_status|\n",
      "+--------+-------------------+-----------------+------------+\n",
      "|       3|2013-07-25 00:00:00|            12111|    COMPLETE|\n",
      "|       5|2013-07-25 00:00:00|            11318|    COMPLETE|\n",
      "|       6|2013-07-25 00:00:00|             7130|    COMPLETE|\n",
      "|       7|2013-07-25 00:00:00|             4530|    COMPLETE|\n",
      "|      15|2013-07-25 00:00:00|             2568|    COMPLETE|\n",
      "|      17|2013-07-25 00:00:00|             2667|    COMPLETE|\n",
      "|      21|2013-07-25 00:00:00|             2711|     PENDING|\n",
      "|      22|2013-07-25 00:00:00|              333|    COMPLETE|\n",
      "|      26|2013-07-25 00:00:00|             7562|    COMPLETE|\n",
      "|      28|2013-07-25 00:00:00|              656|    COMPLETE|\n",
      "+--------+-------------------+-----------------+------------+\n",
      "only showing top 10 rows\n",
      "\n"
     ]
    }
   ],
   "source": [
    "orders_filtered = orders.filter(orders.order_status.isin([\"COMPLETE\", \"PENDING\"]))\n",
    "orders_filtered.show(10)"
   ]
  },
  {
   "cell_type": "code",
   "execution_count": 48,
   "metadata": {},
   "outputs": [
    {
     "name": "stdout",
     "output_type": "stream",
     "text": [
      "+--------+-------------------+-----------------+------------+\n",
      "|order_id|         order_date|order_customer_id|order_status|\n",
      "+--------+-------------------+-----------------+------------+\n",
      "|       3|2013-07-25 00:00:00|            12111|    COMPLETE|\n",
      "|       5|2013-07-25 00:00:00|            11318|    COMPLETE|\n",
      "|       6|2013-07-25 00:00:00|             7130|    COMPLETE|\n",
      "|       7|2013-07-25 00:00:00|             4530|    COMPLETE|\n",
      "|      15|2013-07-25 00:00:00|             2568|    COMPLETE|\n",
      "|      17|2013-07-25 00:00:00|             2667|    COMPLETE|\n",
      "|      22|2013-07-25 00:00:00|              333|    COMPLETE|\n",
      "|      26|2013-07-25 00:00:00|             7562|    COMPLETE|\n",
      "|      28|2013-07-25 00:00:00|              656|    COMPLETE|\n",
      "|      32|2013-07-25 00:00:00|             3960|    COMPLETE|\n",
      "+--------+-------------------+-----------------+------------+\n",
      "only showing top 10 rows\n",
      "\n"
     ]
    }
   ],
   "source": [
    "(orders.filter(lower(orders.order_status) == 'complete')).show(10)"
   ]
  },
  {
   "cell_type": "code",
   "execution_count": 52,
   "metadata": {},
   "outputs": [],
   "source": [
    "#If you want to use the sql query over a df please create temporary table or view \n",
    "orders.createOrReplaceTempView(\"orders\")"
   ]
  },
  {
   "cell_type": "code",
   "execution_count": 53,
   "metadata": {},
   "outputs": [
    {
     "name": "stdout",
     "output_type": "stream",
     "text": [
      "+--------+-------------------+-----------------+------------+\n",
      "|order_id|         order_date|order_customer_id|order_status|\n",
      "+--------+-------------------+-----------------+------------+\n",
      "|      21|2013-07-25 00:00:00|             2711|     PENDING|\n",
      "|      36|2013-07-25 00:00:00|             5649|     PENDING|\n",
      "|      39|2013-07-25 00:00:00|             8214|     PENDING|\n",
      "|      42|2013-07-25 00:00:00|             9776|     PENDING|\n",
      "|      44|2013-07-25 00:00:00|            10500|     PENDING|\n",
      "|      49|2013-07-25 00:00:00|             1871|     PENDING|\n",
      "|      55|2013-07-25 00:00:00|             2052|     PENDING|\n",
      "|      68|2013-07-25 00:00:00|             4320|     PENDING|\n",
      "|      85|2013-07-25 00:00:00|             1485|     PENDING|\n",
      "|      96|2013-07-25 00:00:00|             8683|     PENDING|\n",
      "+--------+-------------------+-----------------+------------+\n",
      "only showing top 10 rows\n",
      "\n"
     ]
    }
   ],
   "source": [
    "pending_orders = spark.sql(\"SELECT * FROM orders WHERE order_status = 'PENDING'\")\n",
    "pending_orders.show(10)"
   ]
  },
  {
   "cell_type": "code",
   "execution_count": 54,
   "metadata": {},
   "outputs": [],
   "source": [
    "orders = orders.withColumn(\"order_date\", col(\"order_date\").cast('date'))"
   ]
  },
  {
   "cell_type": "code",
   "execution_count": 55,
   "metadata": {},
   "outputs": [
    {
     "name": "stdout",
     "output_type": "stream",
     "text": [
      "+--------+----------+-----------------+---------------+\n",
      "|order_id|order_date|order_customer_id|   order_status|\n",
      "+--------+----------+-----------------+---------------+\n",
      "|   57595|2014-07-24|             9102|       COMPLETE|\n",
      "|   57604|2014-07-24|            11274|        PENDING|\n",
      "|   57596|2014-07-24|             2634|PENDING_PAYMENT|\n",
      "|   57597|2014-07-24|             4574|PENDING_PAYMENT|\n",
      "|   57598|2014-07-24|              138|        PENDING|\n",
      "|   57599|2014-07-24|             4500|PENDING_PAYMENT|\n",
      "|   57600|2014-07-24|            11876|     PROCESSING|\n",
      "|   57601|2014-07-24|             1046|        ON_HOLD|\n",
      "|   57602|2014-07-24|             5033| PAYMENT_REVIEW|\n",
      "|   57603|2014-07-24|            10713|       COMPLETE|\n",
      "+--------+----------+-----------------+---------------+\n",
      "\n"
     ]
    },
    {
     "name": "stderr",
     "output_type": "stream",
     "text": [
      "                                                                                \r"
     ]
    }
   ],
   "source": [
    "recent_orders = orders.orderBy(col(\"order_date\").desc()).limit(10)\n",
    "recent_orders.show(10)"
   ]
  },
  {
   "cell_type": "code",
   "execution_count": 57,
   "metadata": {},
   "outputs": [
    {
     "name": "stdout",
     "output_type": "stream",
     "text": [
      "+--------+-------------------+-----------------+---------------+\n",
      "|order_id|         order_date|order_customer_id|   order_status|\n",
      "+--------+-------------------+-----------------+---------------+\n",
      "|       1|2013-07-25 00:00:00|            11599|         CLOSED|\n",
      "|       2|2013-07-25 00:00:00|              256|PENDING_PAYMENT|\n",
      "|       3|2013-07-25 00:00:00|            12111|       COMPLETE|\n",
      "|       4|2013-07-25 00:00:00|             8827|         CLOSED|\n",
      "|       5|2013-07-25 00:00:00|            11318|       COMPLETE|\n",
      "|       6|2013-07-25 00:00:00|             7130|       COMPLETE|\n",
      "|       7|2013-07-25 00:00:00|             4530|       COMPLETE|\n",
      "|       8|2013-07-25 00:00:00|             2911|     PROCESSING|\n",
      "|       9|2013-07-25 00:00:00|             5657|PENDING_PAYMENT|\n",
      "|      10|2013-07-25 00:00:00|             5648|PENDING_PAYMENT|\n",
      "+--------+-------------------+-----------------+---------------+\n",
      "\n"
     ]
    }
   ],
   "source": [
    "recent_orders = spark.sql(\"\"\"\n",
    "    SELECT * FROM orders\n",
    "    ORDER BY order_date\n",
    "    LIMIT 10\n",
    "\"\"\")\n",
    "recent_orders.show()"
   ]
  },
  {
   "cell_type": "code",
   "execution_count": 59,
   "metadata": {},
   "outputs": [
    {
     "data": {
      "text/plain": [
       "['customer_id',\n",
       " 'customer_fname',\n",
       " 'customer_lname',\n",
       " 'customer_email',\n",
       " 'customer_password',\n",
       " 'customer_street',\n",
       " 'customer_city',\n",
       " 'customer_state',\n",
       " 'customer_zipcode']"
      ]
     },
     "execution_count": 59,
     "metadata": {},
     "output_type": "execute_result"
    }
   ],
   "source": [
    "customers.columns"
   ]
  },
  {
   "cell_type": "code",
   "execution_count": 60,
   "metadata": {},
   "outputs": [
    {
     "data": {
      "text/plain": [
       "['order_id', 'order_date', 'order_customer_id', 'order_status']"
      ]
     },
     "execution_count": 60,
     "metadata": {},
     "output_type": "execute_result"
    }
   ],
   "source": [
    "orders.columns"
   ]
  },
  {
   "cell_type": "code",
   "execution_count": 61,
   "metadata": {},
   "outputs": [],
   "source": [
    "#Get the top 5 most expensive products."
   ]
  },
  {
   "cell_type": "code",
   "execution_count": 62,
   "metadata": {},
   "outputs": [
    {
     "data": {
      "text/plain": [
       "['product_id',\n",
       " 'product_cateogry_id',\n",
       " 'product_name',\n",
       " 'product_description',\n",
       " 'product_price',\n",
       " 'product_image']"
      ]
     },
     "execution_count": 62,
     "metadata": {},
     "output_type": "execute_result"
    }
   ],
   "source": [
    "products.columns"
   ]
  },
  {
   "cell_type": "code",
   "execution_count": 64,
   "metadata": {},
   "outputs": [
    {
     "name": "stdout",
     "output_type": "stream",
     "text": [
      "+----------+-------------------+--------------------+-------------------+-------------+--------------------+\n",
      "|product_id|product_cateogry_id|        product_name|product_description|product_price|       product_image|\n",
      "+----------+-------------------+--------------------+-------------------+-------------+--------------------+\n",
      "|       208|                 10| SOLE E35 Elliptical|               NULL|      1999.99|http://images.acm...|\n",
      "|        66|                  4|  SOLE F85 Treadmill|               NULL|      1799.99|http://images.acm...|\n",
      "|       199|                 10|  SOLE F85 Treadmill|               NULL|      1799.99|http://images.acm...|\n",
      "|       496|                 22|  SOLE F85 Treadmill|               NULL|      1799.99|http://images.acm...|\n",
      "|      1048|                 47|\"Spalding Beast 6...|               NULL|      1099.99|http://images.acm...|\n",
      "+----------+-------------------+--------------------+-------------------+-------------+--------------------+\n",
      "\n"
     ]
    }
   ],
   "source": [
    "(products.orderBy(col(\"product_price\").desc()).limit(5)).show()"
   ]
  },
  {
   "cell_type": "code",
   "execution_count": 65,
   "metadata": {},
   "outputs": [],
   "source": [
    "#Merge orders_df with customers_df on customer_id to get customer details for each order."
   ]
  },
  {
   "cell_type": "code",
   "execution_count": 67,
   "metadata": {},
   "outputs": [
    {
     "data": {
      "text/plain": [
       "['order_id', 'order_date', 'order_customer_id', 'order_status']"
      ]
     },
     "execution_count": 67,
     "metadata": {},
     "output_type": "execute_result"
    }
   ],
   "source": [
    "orders.columns"
   ]
  },
  {
   "cell_type": "code",
   "execution_count": 68,
   "metadata": {},
   "outputs": [
    {
     "data": {
      "text/plain": [
       "['customer_id',\n",
       " 'customer_fname',\n",
       " 'customer_lname',\n",
       " 'customer_email',\n",
       " 'customer_password',\n",
       " 'customer_street',\n",
       " 'customer_city',\n",
       " 'customer_state',\n",
       " 'customer_zipcode']"
      ]
     },
     "execution_count": 68,
     "metadata": {},
     "output_type": "execute_result"
    }
   ],
   "source": [
    "customers.columns"
   ]
  },
  {
   "cell_type": "code",
   "execution_count": 69,
   "metadata": {},
   "outputs": [
    {
     "name": "stdout",
     "output_type": "stream",
     "text": [
      "+--------+----------+-----------------+---------------+-----------+--------------+--------------+--------------+-----------------+--------------------+-------------+--------------+----------------+\n",
      "|order_id|order_date|order_customer_id|   order_status|customer_id|customer_fname|customer_lname|customer_email|customer_password|     customer_street|customer_city|customer_state|customer_zipcode|\n",
      "+--------+----------+-----------------+---------------+-----------+--------------+--------------+--------------+-----------------+--------------------+-------------+--------------+----------------+\n",
      "|       1|2013-07-25|            11599|         CLOSED|      11599|          Mary|        Malone|     XXXXXXXXX|        XXXXXXXXX|8708 Indian Horse...|      Hickory|            NC|           28601|\n",
      "|       2|2013-07-25|              256|PENDING_PAYMENT|        256|         David|     Rodriguez|     XXXXXXXXX|        XXXXXXXXX|7605 Tawny Horse ...|      Chicago|            IL|           60625|\n",
      "|       3|2013-07-25|            12111|       COMPLETE|      12111|         Amber|        Franco|     XXXXXXXXX|        XXXXXXXXX|8766 Clear Prairi...|   Santa Cruz|            CA|           95060|\n",
      "|       4|2013-07-25|             8827|         CLOSED|       8827|         Brian|        Wilson|     XXXXXXXXX|        XXXXXXXXX|   8396 High Corners|  San Antonio|            TX|           78240|\n",
      "|       5|2013-07-25|            11318|       COMPLETE|      11318|          Mary|         Henry|     XXXXXXXXX|        XXXXXXXXX|3047 Silent Ember...|       Caguas|            PR|             725|\n",
      "|       6|2013-07-25|             7130|       COMPLETE|       7130|         Alice|         Smith|     XXXXXXXXX|        XXXXXXXXX|      8852 Iron Port|     Brooklyn|            NY|           11237|\n",
      "|       7|2013-07-25|             4530|       COMPLETE|       4530|          Mary|         Smith|     XXXXXXXXX|        XXXXXXXXX|1073 Green Leaf G...|        Miami|            FL|           33161|\n",
      "|       8|2013-07-25|             2911|     PROCESSING|       2911|          Mary|         Smith|     XXXXXXXXX|        XXXXXXXXX|9166 Golden Necta...|       Caguas|            PR|             725|\n",
      "|       9|2013-07-25|             5657|PENDING_PAYMENT|       5657|          Mary|         James|     XXXXXXXXX|        XXXXXXXXX|  1389 Dusty Circuit|     Lakewood|            OH|           44107|\n",
      "|      10|2013-07-25|             5648|PENDING_PAYMENT|       5648|        Joshua|         Smith|     XXXXXXXXX|        XXXXXXXXX|864 Iron Spring S...|      Memphis|            TN|           38111|\n",
      "+--------+----------+-----------------+---------------+-----------+--------------+--------------+--------------+-----------------+--------------------+-------------+--------------+----------------+\n",
      "only showing top 10 rows\n",
      "\n"
     ]
    }
   ],
   "source": [
    "(orders.join(customers, orders.order_customer_id == customers.customer_id, how='inner')).show(10)"
   ]
  },
  {
   "cell_type": "code",
   "execution_count": 70,
   "metadata": {},
   "outputs": [],
   "source": [
    "#Merge order_items_df with products_df to get product details for each order item."
   ]
  },
  {
   "cell_type": "code",
   "execution_count": 72,
   "metadata": {},
   "outputs": [
    {
     "data": {
      "text/plain": [
       "['order_item_id',\n",
       " 'order_item_order_id',\n",
       " 'order_item_product_id',\n",
       " 'order_item_quantity',\n",
       " 'order_item_subtotal',\n",
       " 'order_item_product_price']"
      ]
     },
     "execution_count": 72,
     "metadata": {},
     "output_type": "execute_result"
    }
   ],
   "source": [
    "order_items.columns"
   ]
  },
  {
   "cell_type": "code",
   "execution_count": 73,
   "metadata": {},
   "outputs": [
    {
     "data": {
      "text/plain": [
       "['product_id',\n",
       " 'product_cateogry_id',\n",
       " 'product_name',\n",
       " 'product_description',\n",
       " 'product_price',\n",
       " 'product_image']"
      ]
     },
     "execution_count": 73,
     "metadata": {},
     "output_type": "execute_result"
    }
   ],
   "source": [
    "products.columns"
   ]
  },
  {
   "cell_type": "code",
   "execution_count": 75,
   "metadata": {},
   "outputs": [
    {
     "name": "stdout",
     "output_type": "stream",
     "text": [
      "+-------------+-------------------+---------------------+-------------------+-------------------+------------------------+----------+-------------------+--------------------+-------------------+-------------+--------------------+\n",
      "|order_item_id|order_item_order_id|order_item_product_id|order_item_quantity|order_item_subtotal|order_item_product_price|product_id|product_cateogry_id|        product_name|product_description|product_price|       product_image|\n",
      "+-------------+-------------------+---------------------+-------------------+-------------------+------------------------+----------+-------------------+--------------------+-------------------+-------------+--------------------+\n",
      "|            1|                  1|                  957|                  1|             299.98|                  299.98|       957|                 43|Diamondback Women...|               NULL|       299.98|http://images.acm...|\n",
      "|            2|                  2|                 1073|                  1|             199.99|                  199.99|      1073|                 48|Pelican Sunstream...|               NULL|       199.99|http://images.acm...|\n",
      "|            3|                  2|                  502|                  5|              250.0|                    50.0|       502|                 24|Nike Men's Dri-FI...|               NULL|         50.0|http://images.acm...|\n",
      "|            4|                  2|                  403|                  1|             129.99|                  129.99|       403|                 18|Nike Men's CJ Eli...|               NULL|       129.99|http://images.acm...|\n",
      "|            5|                  4|                  897|                  2|              49.98|                   24.99|       897|                 40|Team Golf New Eng...|               NULL|        24.99|http://images.acm...|\n",
      "|            6|                  4|                  365|                  5|             299.95|                   59.99|       365|                 17|Perfect Fitness P...|               NULL|        59.99|http://images.acm...|\n",
      "|            7|                  4|                  502|                  3|              150.0|                    50.0|       502|                 24|Nike Men's Dri-FI...|               NULL|         50.0|http://images.acm...|\n",
      "|            8|                  4|                 1014|                  4|             199.92|                   49.98|      1014|                 46|O'Brien Men's Neo...|               NULL|        49.98|http://images.acm...|\n",
      "|            9|                  5|                  957|                  1|             299.98|                  299.98|       957|                 43|Diamondback Women...|               NULL|       299.98|http://images.acm...|\n",
      "|           10|                  5|                  365|                  5|             299.95|                   59.99|       365|                 17|Perfect Fitness P...|               NULL|        59.99|http://images.acm...|\n",
      "+-------------+-------------------+---------------------+-------------------+-------------------+------------------------+----------+-------------------+--------------------+-------------------+-------------+--------------------+\n",
      "only showing top 10 rows\n",
      "\n"
     ]
    }
   ],
   "source": [
    "(order_items.join(products, order_items.order_item_product_id == products.product_id, how='inner')).show(10)"
   ]
  },
  {
   "cell_type": "code",
   "execution_count": 76,
   "metadata": {},
   "outputs": [],
   "source": [
    "#Perform a left join between orders_df and order_items_df on order_id."
   ]
  },
  {
   "cell_type": "code",
   "execution_count": 77,
   "metadata": {},
   "outputs": [
    {
     "data": {
      "text/plain": [
       "['order_id', 'order_date', 'order_customer_id', 'order_status']"
      ]
     },
     "execution_count": 77,
     "metadata": {},
     "output_type": "execute_result"
    }
   ],
   "source": [
    "orders.columns"
   ]
  },
  {
   "cell_type": "code",
   "execution_count": 78,
   "metadata": {},
   "outputs": [
    {
     "data": {
      "text/plain": [
       "['order_item_id',\n",
       " 'order_item_order_id',\n",
       " 'order_item_product_id',\n",
       " 'order_item_quantity',\n",
       " 'order_item_subtotal',\n",
       " 'order_item_product_price']"
      ]
     },
     "execution_count": 78,
     "metadata": {},
     "output_type": "execute_result"
    }
   ],
   "source": [
    "order_items.columns"
   ]
  },
  {
   "cell_type": "code",
   "execution_count": 81,
   "metadata": {},
   "outputs": [
    {
     "name": "stderr",
     "output_type": "stream",
     "text": [
      "                                                                                \r"
     ]
    },
    {
     "name": "stdout",
     "output_type": "stream",
     "text": [
      "+--------+----------+-----------------+---------------+-------------+-------------------+---------------------+-------------------+-------------------+------------------------+\n",
      "|order_id|order_date|order_customer_id|   order_status|order_item_id|order_item_order_id|order_item_product_id|order_item_quantity|order_item_subtotal|order_item_product_price|\n",
      "+--------+----------+-----------------+---------------+-------------+-------------------+---------------------+-------------------+-------------------+------------------------+\n",
      "|       1|2013-07-25|            11599|         CLOSED|            1|                  1|                  957|                  1|             299.98|                  299.98|\n",
      "|       2|2013-07-25|              256|PENDING_PAYMENT|            4|                  2|                  403|                  1|             129.99|                  129.99|\n",
      "|       2|2013-07-25|              256|PENDING_PAYMENT|            3|                  2|                  502|                  5|              250.0|                    50.0|\n",
      "|       2|2013-07-25|              256|PENDING_PAYMENT|            2|                  2|                 1073|                  1|             199.99|                  199.99|\n",
      "|       3|2013-07-25|            12111|       COMPLETE|         NULL|               NULL|                 NULL|               NULL|               NULL|                    NULL|\n",
      "|       4|2013-07-25|             8827|         CLOSED|            8|                  4|                 1014|                  4|             199.92|                   49.98|\n",
      "|       4|2013-07-25|             8827|         CLOSED|            7|                  4|                  502|                  3|              150.0|                    50.0|\n",
      "|       4|2013-07-25|             8827|         CLOSED|            6|                  4|                  365|                  5|             299.95|                   59.99|\n",
      "|       4|2013-07-25|             8827|         CLOSED|            5|                  4|                  897|                  2|              49.98|                   24.99|\n",
      "|       5|2013-07-25|            11318|       COMPLETE|           13|                  5|                  403|                  1|             129.99|                  129.99|\n",
      "+--------+----------+-----------------+---------------+-------------+-------------------+---------------------+-------------------+-------------------+------------------------+\n",
      "only showing top 10 rows\n",
      "\n"
     ]
    }
   ],
   "source": [
    "(orders.join(order_items, orders.order_id == order_items.order_item_order_id, \"left\")).show(10)"
   ]
  },
  {
   "cell_type": "code",
   "execution_count": null,
   "metadata": {},
   "outputs": [],
   "source": [
    "#Perform an outer join between categories_df and products_df on category_id."
   ]
  },
  {
   "cell_type": "code",
   "execution_count": 83,
   "metadata": {},
   "outputs": [
    {
     "data": {
      "text/plain": [
       "['category_id', 'category_department_id', 'category_name']"
      ]
     },
     "execution_count": 83,
     "metadata": {},
     "output_type": "execute_result"
    }
   ],
   "source": [
    "categories.columns"
   ]
  },
  {
   "cell_type": "code",
   "execution_count": 84,
   "metadata": {},
   "outputs": [
    {
     "data": {
      "text/plain": [
       "['product_id',\n",
       " 'product_cateogry_id',\n",
       " 'product_name',\n",
       " 'product_description',\n",
       " 'product_price',\n",
       " 'product_image']"
      ]
     },
     "execution_count": 84,
     "metadata": {},
     "output_type": "execute_result"
    }
   ],
   "source": [
    "products.columns"
   ]
  },
  {
   "cell_type": "code",
   "execution_count": 87,
   "metadata": {},
   "outputs": [
    {
     "name": "stderr",
     "output_type": "stream",
     "text": [
      "[Stage 50:>                 (0 + 1) / 1][Stage 51:>                 (0 + 1) / 1]\r"
     ]
    },
    {
     "name": "stdout",
     "output_type": "stream",
     "text": [
      "+----------+-------------------+--------------------+-------------------+-------------+--------------------+-----------+----------------------+-------------+\n",
      "|product_id|product_cateogry_id|        product_name|product_description|product_price|       product_image|category_id|category_department_id|category_name|\n",
      "+----------+-------------------+--------------------+-------------------+-------------+--------------------+-----------+----------------------+-------------+\n",
      "|      NULL|               NULL|                NULL|               NULL|         NULL|                NULL|          1|                     2|     Football|\n",
      "|         1|                  2|Quest Q64 10 FT. ...|               NULL|        59.98|http://images.acm...|          2|                     2|       Soccer|\n",
      "|         2|                  2|Under Armour Men'...|               NULL|       129.99|http://images.acm...|          2|                     2|       Soccer|\n",
      "|         3|                  2|Under Armour Men'...|               NULL|        89.99|http://images.acm...|          2|                     2|       Soccer|\n",
      "|         4|                  2|Under Armour Men'...|               NULL|        89.99|http://images.acm...|          2|                     2|       Soccer|\n",
      "|         5|                  2|Riddell Youth Rev...|               NULL|       199.99|http://images.acm...|          2|                     2|       Soccer|\n",
      "|         6|                  2|Jordan Men's VI R...|               NULL|       134.99|http://images.acm...|          2|                     2|       Soccer|\n",
      "|         7|                  2|Schutt Youth Recr...|               NULL|        99.99|http://images.acm...|          2|                     2|       Soccer|\n",
      "|         8|                  2|Nike Men's Vapor ...|               NULL|       129.99|http://images.acm...|          2|                     2|       Soccer|\n",
      "|         9|                  2|Nike Adult Vapor ...|               NULL|         50.0|http://images.acm...|          2|                     2|       Soccer|\n",
      "+----------+-------------------+--------------------+-------------------+-------------+--------------------+-----------+----------------------+-------------+\n",
      "only showing top 10 rows\n",
      "\n"
     ]
    },
    {
     "name": "stderr",
     "output_type": "stream",
     "text": [
      "                                                                                \r"
     ]
    }
   ],
   "source": [
    "xyz = (products.join(categories, products.product_cateogry_id == categories.category_id, \"outer\")).show(10)"
   ]
  },
  {
   "cell_type": "code",
   "execution_count": 88,
   "metadata": {},
   "outputs": [],
   "source": [
    "#Calculate total revenue per order."
   ]
  },
  {
   "cell_type": "code",
   "execution_count": 89,
   "metadata": {},
   "outputs": [
    {
     "data": {
      "text/plain": [
       "['order_id', 'order_date', 'order_customer_id', 'order_status']"
      ]
     },
     "execution_count": 89,
     "metadata": {},
     "output_type": "execute_result"
    }
   ],
   "source": [
    "orders.columns"
   ]
  },
  {
   "cell_type": "code",
   "execution_count": 90,
   "metadata": {},
   "outputs": [
    {
     "data": {
      "text/plain": [
       "['order_item_id',\n",
       " 'order_item_order_id',\n",
       " 'order_item_product_id',\n",
       " 'order_item_quantity',\n",
       " 'order_item_subtotal',\n",
       " 'order_item_product_price']"
      ]
     },
     "execution_count": 90,
     "metadata": {},
     "output_type": "execute_result"
    }
   ],
   "source": [
    "order_items.columns"
   ]
  },
  {
   "cell_type": "code",
   "execution_count": 92,
   "metadata": {},
   "outputs": [
    {
     "name": "stderr",
     "output_type": "stream",
     "text": [
      "[Stage 56:=============================>                            (1 + 1) / 2]\r"
     ]
    },
    {
     "name": "stdout",
     "output_type": "stream",
     "text": [
      "+--------+------------------+\n",
      "|order_id|     total_revenue|\n",
      "+--------+------------------+\n",
      "|     148|            479.99|\n",
      "|     463| 829.9200000000001|\n",
      "|     471|169.98000000000002|\n",
      "|     496|441.95000000000005|\n",
      "|    1088|249.97000000000003|\n",
      "|    1580|            299.95|\n",
      "|    1591|            439.86|\n",
      "|    1645|1509.7900000000002|\n",
      "|    2366|            299.97|\n",
      "|    2659| 724.9100000000001|\n",
      "+--------+------------------+\n",
      "only showing top 10 rows\n",
      "\n"
     ]
    },
    {
     "name": "stderr",
     "output_type": "stream",
     "text": [
      "                                                                                \r"
     ]
    }
   ],
   "source": [
    "ooi = orders.join(order_items, orders.order_id == order_items.order_item_order_id, \"inner\")\n",
    "(ooi.groupBy('order_id').agg(sum(\"order_item_subtotal\").alias(\"total_revenue\"))).show(10)"
   ]
  },
  {
   "cell_type": "code",
   "execution_count": 93,
   "metadata": {},
   "outputs": [],
   "source": [
    "#Multiply two columns (order_item_quantity * order_item_product_price) and create a new column total_cost."
   ]
  },
  {
   "cell_type": "code",
   "execution_count": 94,
   "metadata": {},
   "outputs": [
    {
     "data": {
      "text/plain": [
       "['order_item_id',\n",
       " 'order_item_order_id',\n",
       " 'order_item_product_id',\n",
       " 'order_item_quantity',\n",
       " 'order_item_subtotal',\n",
       " 'order_item_product_price']"
      ]
     },
     "execution_count": 94,
     "metadata": {},
     "output_type": "execute_result"
    }
   ],
   "source": [
    "order_items.columns"
   ]
  },
  {
   "cell_type": "code",
   "execution_count": 95,
   "metadata": {},
   "outputs": [
    {
     "data": {
      "text/plain": [
       "['order_item_id',\n",
       " 'order_item_order_id',\n",
       " 'order_item_product_id',\n",
       " 'order_item_quantity',\n",
       " 'order_item_subtotal',\n",
       " 'order_item_product_price',\n",
       " 'total_cost']"
      ]
     },
     "execution_count": 95,
     "metadata": {},
     "output_type": "execute_result"
    }
   ],
   "source": [
    "order_items = order_items.withColumn(\"total_cost\", col(\"order_item_quantity\") * col(\"order_item_product_price\"))\n",
    "order_items.columns"
   ]
  },
  {
   "cell_type": "code",
   "execution_count": 96,
   "metadata": {},
   "outputs": [],
   "source": [
    "#Apply a 10% discount on all product prices and add a new column discounted_price."
   ]
  },
  {
   "cell_type": "code",
   "execution_count": 97,
   "metadata": {},
   "outputs": [
    {
     "name": "stdout",
     "output_type": "stream",
     "text": [
      "+-------------+-------------------+---------------------+-------------------+-------------------+------------------------+----------+------------------+\n",
      "|order_item_id|order_item_order_id|order_item_product_id|order_item_quantity|order_item_subtotal|order_item_product_price|total_cost|  discounted_price|\n",
      "+-------------+-------------------+---------------------+-------------------+-------------------+------------------------+----------+------------------+\n",
      "|            1|                  1|                  957|                  1|             299.98|                  299.98|    299.98|           269.982|\n",
      "|            2|                  2|                 1073|                  1|             199.99|                  199.99|    199.99|           179.991|\n",
      "|            3|                  2|                  502|                  5|              250.0|                    50.0|     250.0|              45.0|\n",
      "|            4|                  2|                  403|                  1|             129.99|                  129.99|    129.99|116.99100000000001|\n",
      "|            5|                  4|                  897|                  2|              49.98|                   24.99|     49.98|            22.491|\n",
      "|            6|                  4|                  365|                  5|             299.95|                   59.99|    299.95|            53.991|\n",
      "|            7|                  4|                  502|                  3|              150.0|                    50.0|     150.0|              45.0|\n",
      "|            8|                  4|                 1014|                  4|             199.92|                   49.98|    199.92|            44.982|\n",
      "|            9|                  5|                  957|                  1|             299.98|                  299.98|    299.98|           269.982|\n",
      "|           10|                  5|                  365|                  5|             299.95|                   59.99|    299.95|            53.991|\n",
      "+-------------+-------------------+---------------------+-------------------+-------------------+------------------------+----------+------------------+\n",
      "only showing top 10 rows\n",
      "\n"
     ]
    }
   ],
   "source": [
    "order_items = order_items.withColumn(\"discounted_price\", col(\"order_item_product_price\") * .9)\n",
    "order_items.show(10)"
   ]
  },
  {
   "cell_type": "code",
   "execution_count": 98,
   "metadata": {},
   "outputs": [],
   "source": [
    "#Extract the year and month from order_date and create new columns order_year and order_month."
   ]
  },
  {
   "cell_type": "code",
   "execution_count": 99,
   "metadata": {},
   "outputs": [
    {
     "data": {
      "text/plain": [
       "['order_id', 'order_date', 'order_customer_id', 'order_status']"
      ]
     },
     "execution_count": 99,
     "metadata": {},
     "output_type": "execute_result"
    }
   ],
   "source": [
    "orders.columns"
   ]
  },
  {
   "cell_type": "code",
   "execution_count": 102,
   "metadata": {},
   "outputs": [
    {
     "name": "stdout",
     "output_type": "stream",
     "text": [
      "+--------+----------+-----------------+---------------+----------+-----------+\n",
      "|order_id|order_date|order_customer_id|   order_status|order_year|order_month|\n",
      "+--------+----------+-----------------+---------------+----------+-----------+\n",
      "|       1|2013-07-25|            11599|         CLOSED|      2013|          7|\n",
      "|       2|2013-07-25|              256|PENDING_PAYMENT|      2013|          7|\n",
      "|       3|2013-07-25|            12111|       COMPLETE|      2013|          7|\n",
      "|       4|2013-07-25|             8827|         CLOSED|      2013|          7|\n",
      "|       5|2013-07-25|            11318|       COMPLETE|      2013|          7|\n",
      "|       6|2013-07-25|             7130|       COMPLETE|      2013|          7|\n",
      "|       7|2013-07-25|             4530|       COMPLETE|      2013|          7|\n",
      "|       8|2013-07-25|             2911|     PROCESSING|      2013|          7|\n",
      "|       9|2013-07-25|             5657|PENDING_PAYMENT|      2013|          7|\n",
      "|      10|2013-07-25|             5648|PENDING_PAYMENT|      2013|          7|\n",
      "+--------+----------+-----------------+---------------+----------+-----------+\n",
      "only showing top 10 rows\n",
      "\n"
     ]
    }
   ],
   "source": [
    "(orders.withColumn(\"order_year\", year(col(\"order_date\"))).withColumn(\"order_month\", month(col(\"order_date\")))).show(10)"
   ]
  },
  {
   "cell_type": "code",
   "execution_count": 103,
   "metadata": {},
   "outputs": [],
   "source": [
    "#Create a new column customer_fullname by concatenating customer_fname and customer_lname."
   ]
  },
  {
   "cell_type": "code",
   "execution_count": 104,
   "metadata": {},
   "outputs": [
    {
     "data": {
      "text/plain": [
       "['customer_id',\n",
       " 'customer_fname',\n",
       " 'customer_lname',\n",
       " 'customer_email',\n",
       " 'customer_password',\n",
       " 'customer_street',\n",
       " 'customer_city',\n",
       " 'customer_state',\n",
       " 'customer_zipcode']"
      ]
     },
     "execution_count": 104,
     "metadata": {},
     "output_type": "execute_result"
    }
   ],
   "source": [
    "customers.columns"
   ]
  },
  {
   "cell_type": "code",
   "execution_count": 108,
   "metadata": {},
   "outputs": [
    {
     "name": "stdout",
     "output_type": "stream",
     "text": [
      "+-----------+--------------+--------------+--------------+-----------------+--------------------+-------------+--------------+----------------+-----------------+\n",
      "|customer_id|customer_fname|customer_lname|customer_email|customer_password|     customer_street|customer_city|customer_state|customer_zipcode|customer_fullname|\n",
      "+-----------+--------------+--------------+--------------+-----------------+--------------------+-------------+--------------+----------------+-----------------+\n",
      "|          1|       Richard|     Hernandez|     XXXXXXXXX|        XXXXXXXXX|  6303 Heather Plaza|  Brownsville|            TX|           78521|Richard Hernandez|\n",
      "|          2|          Mary|       Barrett|     XXXXXXXXX|        XXXXXXXXX|9526 Noble Embers...|    Littleton|            CO|           80126|     Mary Barrett|\n",
      "|          3|           Ann|         Smith|     XXXXXXXXX|        XXXXXXXXX|3422 Blue Pioneer...|       Caguas|            PR|             725|        Ann Smith|\n",
      "|          4|          Mary|         Jones|     XXXXXXXXX|        XXXXXXXXX|  8324 Little Common|   San Marcos|            CA|           92069|       Mary Jones|\n",
      "|          5|        Robert|        Hudson|     XXXXXXXXX|        XXXXXXXXX|10 Crystal River ...|       Caguas|            PR|             725|    Robert Hudson|\n",
      "|          6|          Mary|         Smith|     XXXXXXXXX|        XXXXXXXXX|3151 Sleepy Quail...|      Passaic|            NJ|            7055|       Mary Smith|\n",
      "|          7|       Melissa|        Wilcox|     XXXXXXXXX|        XXXXXXXXX|9453 High Concession|       Caguas|            PR|             725|   Melissa Wilcox|\n",
      "|          8|         Megan|         Smith|     XXXXXXXXX|        XXXXXXXXX|3047 Foggy Forest...|     Lawrence|            MA|            1841|      Megan Smith|\n",
      "|          9|          Mary|         Perez|     XXXXXXXXX|        XXXXXXXXX| 3616 Quaking Street|       Caguas|            PR|             725|       Mary Perez|\n",
      "|         10|       Melissa|         Smith|     XXXXXXXXX|        XXXXXXXXX|8598 Harvest Beac...|     Stafford|            VA|           22554|    Melissa Smith|\n",
      "+-----------+--------------+--------------+--------------+-----------------+--------------------+-------------+--------------+----------------+-----------------+\n",
      "only showing top 10 rows\n",
      "\n"
     ]
    }
   ],
   "source": [
    "(customers.withColumn(\"customer_fullname\", concat_ws(\" \",col('customer_fname'), col('customer_lname')))).show(10)"
   ]
  },
  {
   "cell_type": "code",
   "execution_count": 109,
   "metadata": {},
   "outputs": [],
   "source": [
    "#Add a column indicating whether an order was placed on a weekend."
   ]
  },
  {
   "cell_type": "code",
   "execution_count": 111,
   "metadata": {},
   "outputs": [
    {
     "data": {
      "text/plain": [
       "['order_id', 'order_date', 'order_customer_id', 'order_status']"
      ]
     },
     "execution_count": 111,
     "metadata": {},
     "output_type": "execute_result"
    }
   ],
   "source": [
    "orders.columns"
   ]
  },
  {
   "cell_type": "code",
   "execution_count": null,
   "metadata": {},
   "outputs": [
    {
     "name": "stdout",
     "output_type": "stream",
     "text": [
      "+--------+----------+-----------------+---------------+----------+\n",
      "|order_id|order_date|order_customer_id|   order_status|is_weekend|\n",
      "+--------+----------+-----------------+---------------+----------+\n",
      "|       1|2013-07-25|            11599|         CLOSED|     false|\n",
      "|       2|2013-07-25|              256|PENDING_PAYMENT|     false|\n",
      "|       3|2013-07-25|            12111|       COMPLETE|     false|\n",
      "|       4|2013-07-25|             8827|         CLOSED|     false|\n",
      "|       5|2013-07-25|            11318|       COMPLETE|     false|\n",
      "|       6|2013-07-25|             7130|       COMPLETE|     false|\n",
      "|       7|2013-07-25|             4530|       COMPLETE|     false|\n",
      "|       8|2013-07-25|             2911|     PROCESSING|     false|\n",
      "|       9|2013-07-25|             5657|PENDING_PAYMENT|     false|\n",
      "|      10|2013-07-25|             5648|PENDING_PAYMENT|     false|\n",
      "+--------+----------+-----------------+---------------+----------+\n",
      "only showing top 10 rows\n",
      "\n"
     ]
    }
   ],
   "source": [
    "\n",
    "(orders.withColumn(\"is_weekend\", date_format(col(\"order_date\"), \"E\").isin(\"Sat\",\"Sun\").cast(\"boolean\"))).show(10)"
   ]
  },
  {
   "cell_type": "code",
   "execution_count": 119,
   "metadata": {},
   "outputs": [
    {
     "name": "stdout",
     "output_type": "stream",
     "text": [
      "+--------+----------+-----------------+---------------+----------+\n",
      "|order_id|order_date|order_customer_id|   order_status|is_weekend|\n",
      "+--------+----------+-----------------+---------------+----------+\n",
      "|       1|2013-07-25|            11599|         CLOSED|     false|\n",
      "|       2|2013-07-25|              256|PENDING_PAYMENT|     false|\n",
      "|       3|2013-07-25|            12111|       COMPLETE|     false|\n",
      "|       4|2013-07-25|             8827|         CLOSED|     false|\n",
      "|       5|2013-07-25|            11318|       COMPLETE|     false|\n",
      "|       6|2013-07-25|             7130|       COMPLETE|     false|\n",
      "|       7|2013-07-25|             4530|       COMPLETE|     false|\n",
      "|       8|2013-07-25|             2911|     PROCESSING|     false|\n",
      "|       9|2013-07-25|             5657|PENDING_PAYMENT|     false|\n",
      "|      10|2013-07-25|             5648|PENDING_PAYMENT|     false|\n",
      "+--------+----------+-----------------+---------------+----------+\n",
      "only showing top 10 rows\n",
      "\n"
     ]
    }
   ],
   "source": [
    "\n",
    "(orders.withColumn(\"is_weekend\", date_format(col(\"order_date\"), \"E\").isin(\"Sat\",\"Sun\").cast(\"string\"))).show(10)"
   ]
  },
  {
   "cell_type": "code",
   "execution_count": 120,
   "metadata": {},
   "outputs": [
    {
     "name": "stdout",
     "output_type": "stream",
     "text": [
      "+--------+----------+-----------------+---------------+---------+\n",
      "|order_id|order_date|order_customer_id|   order_status|order_day|\n",
      "+--------+----------+-----------------+---------------+---------+\n",
      "|       1|2013-07-25|            11599|         CLOSED| Thursday|\n",
      "|       2|2013-07-25|              256|PENDING_PAYMENT| Thursday|\n",
      "|       3|2013-07-25|            12111|       COMPLETE| Thursday|\n",
      "|       4|2013-07-25|             8827|         CLOSED| Thursday|\n",
      "|       5|2013-07-25|            11318|       COMPLETE| Thursday|\n",
      "|       6|2013-07-25|             7130|       COMPLETE| Thursday|\n",
      "|       7|2013-07-25|             4530|       COMPLETE| Thursday|\n",
      "|       8|2013-07-25|             2911|     PROCESSING| Thursday|\n",
      "|       9|2013-07-25|             5657|PENDING_PAYMENT| Thursday|\n",
      "|      10|2013-07-25|             5648|PENDING_PAYMENT| Thursday|\n",
      "+--------+----------+-----------------+---------------+---------+\n",
      "only showing top 10 rows\n",
      "\n"
     ]
    }
   ],
   "source": [
    "(orders.withColumn(\"order_day\", date_format(col(\"order_date\"), \"EEEE\"))).show(10)\n"
   ]
  },
  {
   "cell_type": "code",
   "execution_count": 121,
   "metadata": {},
   "outputs": [],
   "source": [
    "#Rank products by sales revenue using a window function"
   ]
  },
  {
   "cell_type": "code",
   "execution_count": 122,
   "metadata": {},
   "outputs": [
    {
     "data": {
      "text/plain": [
       "['order_item_id',\n",
       " 'order_item_order_id',\n",
       " 'order_item_product_id',\n",
       " 'order_item_quantity',\n",
       " 'order_item_subtotal',\n",
       " 'order_item_product_price',\n",
       " 'total_cost',\n",
       " 'discounted_price']"
      ]
     },
     "execution_count": 122,
     "metadata": {},
     "output_type": "execute_result"
    }
   ],
   "source": [
    "order_items.columns"
   ]
  },
  {
   "cell_type": "code",
   "execution_count": 129,
   "metadata": {},
   "outputs": [
    {
     "name": "stderr",
     "output_type": "stream",
     "text": [
      "25/02/11 11:30:53 WARN WindowExec: No Partition Defined for Window operation! Moving all data to a single partition, this can cause serious performance degradation.\n",
      "25/02/11 11:30:53 WARN WindowExec: No Partition Defined for Window operation! Moving all data to a single partition, this can cause serious performance degradation.\n",
      "25/02/11 11:30:53 WARN WindowExec: No Partition Defined for Window operation! Moving all data to a single partition, this can cause serious performance degradation.\n",
      "25/02/11 11:30:54 WARN WindowExec: No Partition Defined for Window operation! Moving all data to a single partition, this can cause serious performance degradation.\n",
      "25/02/11 11:30:54 WARN WindowExec: No Partition Defined for Window operation! Moving all data to a single partition, this can cause serious performance degradation.\n",
      "25/02/11 11:30:54 WARN WindowExec: No Partition Defined for Window operation! Moving all data to a single partition, this can cause serious performance degradation.\n",
      "25/02/11 11:30:54 WARN WindowExec: No Partition Defined for Window operation! Moving all data to a single partition, this can cause serious performance degradation.\n"
     ]
    },
    {
     "name": "stdout",
     "output_type": "stream",
     "text": [
      "+---------------------+------------------+----+\n",
      "|order_item_product_id|     total_revenue|rank|\n",
      "+---------------------+------------------+----+\n",
      "|                 1004| 6929653.500001108|   1|\n",
      "|                  365| 4421143.020000522|   2|\n",
      "|                  957| 4118425.419999785|   3|\n",
      "|                  191|3667633.2000001078|   4|\n",
      "|                  502|         3147800.0|   5|\n",
      "|                 1073|3099845.0000002305|   6|\n",
      "|                  403| 2891757.540000081|   7|\n",
      "|                 1014|2888993.9399995143|   8|\n",
      "|                  627|1269082.6499998837|   9|\n",
      "|                  565|           67830.0|  10|\n",
      "+---------------------+------------------+----+\n",
      "only showing top 10 rows\n",
      "\n"
     ]
    },
    {
     "name": "stderr",
     "output_type": "stream",
     "text": [
      "                                                                                \r"
     ]
    }
   ],
   "source": [
    "order_items_2 = order_items.groupBy(\"order_item_product_id\").agg(sum(\"order_item_subtotal\").alias(\"total_revenue\")).repartition(4)\n",
    "window_spec = Window.orderBy(col(\"total_revenue\").desc())\n",
    "ranked_products = order_items_2.withColumn(\"rank\", rank().over(window_spec))\n",
    "ranked_products.show(10)"
   ]
  },
  {
   "cell_type": "code",
   "execution_count": 131,
   "metadata": {},
   "outputs": [
    {
     "name": "stderr",
     "output_type": "stream",
     "text": [
      "25/02/11 12:18:34 WARN WindowExec: No Partition Defined for Window operation! Moving all data to a single partition, this can cause serious performance degradation.\n",
      "25/02/11 12:18:34 WARN WindowExec: No Partition Defined for Window operation! Moving all data to a single partition, this can cause serious performance degradation.\n",
      "25/02/11 12:18:34 WARN WindowExec: No Partition Defined for Window operation! Moving all data to a single partition, this can cause serious performance degradation.\n",
      "25/02/11 12:18:35 WARN WindowExec: No Partition Defined for Window operation! Moving all data to a single partition, this can cause serious performance degradation.\n",
      "25/02/11 12:18:35 WARN WindowExec: No Partition Defined for Window operation! Moving all data to a single partition, this can cause serious performance degradation.\n",
      "25/02/11 12:18:35 WARN WindowExec: No Partition Defined for Window operation! Moving all data to a single partition, this can cause serious performance degradation.\n"
     ]
    },
    {
     "name": "stdout",
     "output_type": "stream",
     "text": [
      "+---------------------+------------------+----+\n",
      "|order_item_product_id|     total_revenue|rank|\n",
      "+---------------------+------------------+----+\n",
      "|                 1004| 6929653.500001108|   1|\n",
      "|                  365| 4421143.020000522|   2|\n",
      "|                  957| 4118425.419999785|   3|\n",
      "|                  191|3667633.2000001078|   4|\n",
      "|                  502|         3147800.0|   5|\n",
      "|                 1073|3099845.0000002305|   6|\n",
      "|                  403| 2891757.540000081|   7|\n",
      "|                 1014|2888993.9399995143|   8|\n",
      "|                  627|1269082.6499998837|   9|\n",
      "|                  565|           67830.0|  10|\n",
      "+---------------------+------------------+----+\n",
      "only showing top 10 rows\n",
      "\n"
     ]
    }
   ],
   "source": [
    "from pyspark.sql.window import Window\n",
    "from pyspark.sql.functions import sum, rank, col\n",
    "\n",
    "# Step 1: Aggregate total revenue per product\n",
    "order_items_2 = order_items.groupBy(\"order_item_product_id\") \\\n",
    "    .agg(sum(\"order_item_subtotal\").alias(\"total_revenue\"))\n",
    "\n",
    "# Step 2: Define a Window Specification without partitioning\n",
    "window_spec = Window.orderBy(col(\"total_revenue\").desc())\n",
    "\n",
    "# Step 3: Apply Rank Function\n",
    "ranked_products = order_items_2.withColumn(\"rank\", rank().over(window_spec))\n",
    "\n",
    "# Step 4: Show top 10 ranked products\n",
    "ranked_products.show(10)\n"
   ]
  },
  {
   "cell_type": "code",
   "execution_count": 132,
   "metadata": {},
   "outputs": [],
   "source": [
    "#Find the cumulative revenue per order using sum() with a window function."
   ]
  },
  {
   "cell_type": "code",
   "execution_count": 133,
   "metadata": {},
   "outputs": [
    {
     "data": {
      "text/plain": [
       "['order_id', 'order_date', 'order_customer_id', 'order_status']"
      ]
     },
     "execution_count": 133,
     "metadata": {},
     "output_type": "execute_result"
    }
   ],
   "source": [
    "orders.columns"
   ]
  },
  {
   "cell_type": "code",
   "execution_count": 134,
   "metadata": {},
   "outputs": [
    {
     "data": {
      "text/plain": [
       "['order_item_id',\n",
       " 'order_item_order_id',\n",
       " 'order_item_product_id',\n",
       " 'order_item_quantity',\n",
       " 'order_item_subtotal',\n",
       " 'order_item_product_price',\n",
       " 'total_cost',\n",
       " 'discounted_price']"
      ]
     },
     "execution_count": 134,
     "metadata": {},
     "output_type": "execute_result"
    }
   ],
   "source": [
    "order_items.columns"
   ]
  },
  {
   "cell_type": "code",
   "execution_count": 135,
   "metadata": {},
   "outputs": [
    {
     "name": "stderr",
     "output_type": "stream",
     "text": [
      "[Stage 84:=============================>                            (1 + 1) / 2]\r"
     ]
    },
    {
     "name": "stdout",
     "output_type": "stream",
     "text": [
      "+-------------------+-------------+-------------------+------------------+\n",
      "|order_item_order_id|order_item_id|order_item_subtotal|cumulative_revenue|\n",
      "+-------------------+-------------+-------------------+------------------+\n",
      "|                  1|            1|             299.98|            299.98|\n",
      "|                  2|            2|             199.99|            199.99|\n",
      "|                  2|            3|              250.0|            449.99|\n",
      "|                  2|            4|             129.99|            579.98|\n",
      "|                  4|            5|              49.98|             49.98|\n",
      "|                  4|            6|             299.95|            349.93|\n",
      "|                  4|            7|              150.0|            499.93|\n",
      "|                  4|            8|             199.92|            699.85|\n",
      "|                  5|            9|             299.98|            299.98|\n",
      "|                  5|           10|             299.95| 599.9300000000001|\n",
      "+-------------------+-------------+-------------------+------------------+\n",
      "only showing top 10 rows\n",
      "\n"
     ]
    },
    {
     "name": "stderr",
     "output_type": "stream",
     "text": [
      "                                                                                \r"
     ]
    }
   ],
   "source": [
    "from pyspark.sql.window import Window\n",
    "from pyspark.sql.functions import sum, col\n",
    "\n",
    "# Step 1: Define a Window Specification partitioned by order_id and ordered by order_item_id\n",
    "window_spec = Window.partitionBy(\"order_item_order_id\").orderBy(\"order_item_id\").rowsBetween(Window.unboundedPreceding, Window.currentRow)\n",
    "\n",
    "# Step 2: Calculate cumulative revenue using sum() over the window\n",
    "order_items_cumulative = order_items.withColumn(\n",
    "    \"cumulative_revenue\",\n",
    "    sum(col(\"order_item_subtotal\")).over(window_spec)\n",
    ")\n",
    "\n",
    "# Step 3: Show results\n",
    "order_items_cumulative.select(\"order_item_order_id\", \"order_item_id\", \"order_item_subtotal\", \"cumulative_revenue\").show(10)\n"
   ]
  },
  {
   "cell_type": "code",
   "execution_count": 136,
   "metadata": {},
   "outputs": [],
   "source": [
    "#Find the first order date per customer using min()."
   ]
  },
  {
   "cell_type": "code",
   "execution_count": 137,
   "metadata": {},
   "outputs": [
    {
     "name": "stderr",
     "output_type": "stream",
     "text": [
      "[Stage 87:>                                                         (0 + 1) / 1]\r"
     ]
    },
    {
     "name": "stdout",
     "output_type": "stream",
     "text": [
      "+-----------------+----------------+\n",
      "|order_customer_id|first_order_date|\n",
      "+-----------------+----------------+\n",
      "|              833|      2013-07-29|\n",
      "|             1088|      2013-07-30|\n",
      "|             6397|      2013-07-30|\n",
      "|            11858|      2013-07-31|\n",
      "|            11033|      2013-07-31|\n",
      "|             8389|      2013-07-31|\n",
      "|            12046|      2013-08-01|\n",
      "|             4900|      2013-08-01|\n",
      "|             6357|      2013-08-02|\n",
      "|            11458|      2013-08-04|\n",
      "+-----------------+----------------+\n",
      "only showing top 10 rows\n",
      "\n"
     ]
    },
    {
     "name": "stderr",
     "output_type": "stream",
     "text": [
      "                                                                                \r"
     ]
    }
   ],
   "source": [
    "from pyspark.sql.functions import min\n",
    "\n",
    "# Step 1: Find the first order date per customer\n",
    "first_order_per_customer = orders.groupBy(\"order_customer_id\") \\\n",
    "    .agg(min(\"order_date\").alias(\"first_order_date\"))\n",
    "\n",
    "# Step 2: Show results\n",
    "first_order_per_customer.show(10)\n"
   ]
  },
  {
   "cell_type": "code",
   "execution_count": 138,
   "metadata": {},
   "outputs": [],
   "source": [
    "#Find the top-selling product in each category."
   ]
  },
  {
   "cell_type": "code",
   "execution_count": 139,
   "metadata": {},
   "outputs": [
    {
     "data": {
      "text/plain": [
       "['order_item_id',\n",
       " 'order_item_order_id',\n",
       " 'order_item_product_id',\n",
       " 'order_item_quantity',\n",
       " 'order_item_subtotal',\n",
       " 'order_item_product_price',\n",
       " 'total_cost',\n",
       " 'discounted_price']"
      ]
     },
     "execution_count": 139,
     "metadata": {},
     "output_type": "execute_result"
    }
   ],
   "source": [
    "order_items.columns"
   ]
  },
  {
   "cell_type": "code",
   "execution_count": 143,
   "metadata": {},
   "outputs": [
    {
     "data": {
      "text/plain": [
       "['category_id', 'category_department_id', 'category_name']"
      ]
     },
     "execution_count": 143,
     "metadata": {},
     "output_type": "execute_result"
    }
   ],
   "source": [
    "categories.columns"
   ]
  },
  {
   "cell_type": "code",
   "execution_count": 145,
   "metadata": {},
   "outputs": [
    {
     "data": {
      "text/plain": [
       "['product_id',\n",
       " 'product_cateogry_id',\n",
       " 'product_name',\n",
       " 'product_description',\n",
       " 'product_price',\n",
       " 'product_image']"
      ]
     },
     "execution_count": 145,
     "metadata": {},
     "output_type": "execute_result"
    }
   ],
   "source": [
    "products.columns"
   ]
  },
  {
   "cell_type": "code",
   "execution_count": 144,
   "metadata": {},
   "outputs": [
    {
     "name": "stderr",
     "output_type": "stream",
     "text": [
      "[Stage 94:=============================>                            (1 + 1) / 2]\r"
     ]
    },
    {
     "name": "stdout",
     "output_type": "stream",
     "text": [
      "+-----------+---------------------+------------------+----+\n",
      "|category_id|order_item_product_id|     total_revenue|rank|\n",
      "+-----------+---------------------+------------------+----+\n",
      "|         19|                   19|  7999.35999999999|   1|\n",
      "|         24|                   24|18477.689999999988|   1|\n",
      "|         35|                   35| 10399.34999999999|   1|\n",
      "|         37|                   37| 27327.19000000001|   1|\n",
      "|         44|                   44| 56330.60999999994|   1|\n",
      "|         58|                   58| 8699.709999999995|   1|\n",
      "+-----------+---------------------+------------------+----+\n",
      "\n"
     ]
    },
    {
     "name": "stderr",
     "output_type": "stream",
     "text": [
      "                                                                                \r"
     ]
    }
   ],
   "source": [
    "from pyspark.sql.window import Window\n",
    "from pyspark.sql.functions import sum, rank, col\n",
    "\n",
    "# Step 1: Join order_items with categories to get category_id for each product\n",
    "order_items_with_category = order_items.join(categories, order_items.order_item_product_id == categories.category_id, \"inner\")\n",
    "\n",
    "# Step 2: Aggregate total revenue per product within each category\n",
    "product_sales = order_items_with_category.groupBy(\"category_id\", \"order_item_product_id\") \\\n",
    "    .agg(sum(\"order_item_subtotal\").alias(\"total_revenue\"))\n",
    "\n",
    "# Step 3: Define a Window Specification partitioned by category and ordered by revenue\n",
    "window_spec = Window.partitionBy(\"category_id\").orderBy(col(\"total_revenue\").desc())\n",
    "\n",
    "# Step 4: Rank products within each category\n",
    "ranked_products = product_sales.withColumn(\"rank\", rank().over(window_spec))\n",
    "\n",
    "# Step 5: Filter only the top-ranked product per category\n",
    "top_selling_products = ranked_products.filter(col(\"rank\") == 1)\n",
    "\n",
    "# Step 6: Show results\n",
    "top_selling_products.show(10)\n"
   ]
  },
  {
   "cell_type": "code",
   "execution_count": 146,
   "metadata": {},
   "outputs": [],
   "source": [
    "#Check if there are any duplicate rows in customers_df."
   ]
  },
  {
   "cell_type": "code",
   "execution_count": 149,
   "metadata": {},
   "outputs": [
    {
     "name": "stdout",
     "output_type": "stream",
     "text": [
      "Total Rows: 12435\n",
      "Distinct Rows: 12435\n",
      "Duplicate Rows: 0\n",
      "No duplicate rows found in customers_df.\n"
     ]
    }
   ],
   "source": [
    "from pyspark.sql.functions import count\n",
    "\n",
    "# Count total rows in customers_df\n",
    "total_rows = customers.count()\n",
    "\n",
    "# Count distinct rows in customers_df\n",
    "distinct_rows = customers.distinct().count()\n",
    "\n",
    "# Check for duplicates\n",
    "duplicate_rows = total_rows - distinct_rows\n",
    "\n",
    "print(f\"Total Rows: {total_rows}\")\n",
    "print(f\"Distinct Rows: {distinct_rows}\")\n",
    "print(f\"Duplicate Rows: {duplicate_rows}\")\n",
    "\n",
    "if duplicate_rows > 0:\n",
    "    print(f\"There are {duplicate_rows} duplicate rows in customers_df.\")\n",
    "else:\n",
    "    print(\"No duplicate rows found in customers_df.\")\n"
   ]
  },
  {
   "cell_type": "code",
   "execution_count": 150,
   "metadata": {},
   "outputs": [],
   "source": [
    "#Fill missing values in product_price with the average price of that category."
   ]
  },
  {
   "cell_type": "code",
   "execution_count": 152,
   "metadata": {},
   "outputs": [
    {
     "data": {
      "text/plain": [
       "['product_id',\n",
       " 'product_cateogry_id',\n",
       " 'product_name',\n",
       " 'product_description',\n",
       " 'product_price',\n",
       " 'product_image']"
      ]
     },
     "execution_count": 152,
     "metadata": {},
     "output_type": "execute_result"
    }
   ],
   "source": [
    "products.columns"
   ]
  },
  {
   "cell_type": "code",
   "execution_count": 156,
   "metadata": {},
   "outputs": [
    {
     "name": "stdout",
     "output_type": "stream",
     "text": [
      "+-------------------+----------+--------------------+-------------------+-------------+--------------------+\n",
      "|product_cateogry_id|product_id|        product_name|product_description|product_price|       product_image|\n",
      "+-------------------+----------+--------------------+-------------------+-------------+--------------------+\n",
      "|                  2|         1|Quest Q64 10 FT. ...|               NULL|        59.98|http://images.acm...|\n",
      "|                  2|         2|Under Armour Men'...|               NULL|       129.99|http://images.acm...|\n",
      "|                  2|         3|Under Armour Men'...|               NULL|        89.99|http://images.acm...|\n",
      "|                  2|         4|Under Armour Men'...|               NULL|        89.99|http://images.acm...|\n",
      "|                  2|         5|Riddell Youth Rev...|               NULL|       199.99|http://images.acm...|\n",
      "|                  2|         6|Jordan Men's VI R...|               NULL|       134.99|http://images.acm...|\n",
      "|                  2|         7|Schutt Youth Recr...|               NULL|        99.99|http://images.acm...|\n",
      "|                  2|         8|Nike Men's Vapor ...|               NULL|       129.99|http://images.acm...|\n",
      "|                  2|         9|Nike Adult Vapor ...|               NULL|         50.0|http://images.acm...|\n",
      "|                  2|        10|Under Armour Men'...|               NULL|       129.99|http://images.acm...|\n",
      "+-------------------+----------+--------------------+-------------------+-------------+--------------------+\n",
      "only showing top 10 rows\n",
      "\n"
     ]
    }
   ],
   "source": [
    "from pyspark.sql.functions import col, avg, when\n",
    "\n",
    "# Step 1: Compute average product price per category\n",
    "category_avg_price = products.groupBy(\"product_cateogry_id\").agg(avg(\"product_price\").alias(\"avg_price\"))\n",
    "\n",
    "# Step 2: Join with products table on \"product_cateogry_id\" (Fix join column)\n",
    "products_enriched = products.join(category_avg_price, on=\"product_cateogry_id\", how=\"left\")\n",
    "\n",
    "# Step 3: Fill missing values in product_price with the category's avg_price\n",
    "products_filled = products_enriched.withColumn(\n",
    "    \"product_price\",\n",
    "    when(col(\"product_price\").isNull(), col(\"avg_price\")).otherwise(col(\"product_price\"))\n",
    ").drop(\"avg_price\")  # Drop avg_price column after filling\n",
    "\n",
    "# Step 4: Show results\n",
    "products_filled.show(10)"
   ]
  },
  {
   "cell_type": "code",
   "execution_count": 157,
   "metadata": {},
   "outputs": [],
   "source": [
    "#Replace all NULL values in order_status with \"UNKNOWN\"."
   ]
  },
  {
   "cell_type": "code",
   "execution_count": 159,
   "metadata": {},
   "outputs": [
    {
     "name": "stdout",
     "output_type": "stream",
     "text": [
      "+--------+----------+-----------------+---------------+\n",
      "|order_id|order_date|order_customer_id|   order_status|\n",
      "+--------+----------+-----------------+---------------+\n",
      "|       1|2013-07-25|            11599|         CLOSED|\n",
      "|       2|2013-07-25|              256|PENDING_PAYMENT|\n",
      "|       3|2013-07-25|            12111|       COMPLETE|\n",
      "|       4|2013-07-25|             8827|         CLOSED|\n",
      "|       5|2013-07-25|            11318|       COMPLETE|\n",
      "|       6|2013-07-25|             7130|       COMPLETE|\n",
      "|       7|2013-07-25|             4530|       COMPLETE|\n",
      "|       8|2013-07-25|             2911|     PROCESSING|\n",
      "|       9|2013-07-25|             5657|PENDING_PAYMENT|\n",
      "|      10|2013-07-25|             5648|PENDING_PAYMENT|\n",
      "+--------+----------+-----------------+---------------+\n",
      "only showing top 10 rows\n",
      "\n"
     ]
    }
   ],
   "source": [
    "orders.show(10)"
   ]
  },
  {
   "cell_type": "code",
   "execution_count": 160,
   "metadata": {},
   "outputs": [
    {
     "name": "stdout",
     "output_type": "stream",
     "text": [
      "+--------+----------+-----------------+------------+\n",
      "|order_id|order_date|order_customer_id|order_status|\n",
      "+--------+----------+-----------------+------------+\n",
      "+--------+----------+-----------------+------------+\n",
      "\n"
     ]
    }
   ],
   "source": [
    "orders.filter(col(\"order_status\").isNull()).show()"
   ]
  },
  {
   "cell_type": "code",
   "execution_count": 161,
   "metadata": {},
   "outputs": [],
   "source": [
    "#Find all orders where customer_id is missing."
   ]
  },
  {
   "cell_type": "code",
   "execution_count": 164,
   "metadata": {},
   "outputs": [
    {
     "data": {
      "text/plain": [
       "['order_id', 'order_date', 'order_customer_id', 'order_status']"
      ]
     },
     "execution_count": 164,
     "metadata": {},
     "output_type": "execute_result"
    }
   ],
   "source": [
    "orders.columns"
   ]
  },
  {
   "cell_type": "code",
   "execution_count": 167,
   "metadata": {},
   "outputs": [
    {
     "name": "stdout",
     "output_type": "stream",
     "text": [
      "+--------+----------+-----------------+------------+\n",
      "|order_id|order_date|order_customer_id|order_status|\n",
      "+--------+----------+-----------------+------------+\n",
      "+--------+----------+-----------------+------------+\n",
      "\n"
     ]
    }
   ],
   "source": [
    "from pyspark.sql.functions import col\n",
    "\n",
    "orders.filter(col(\"order_customer_id\").isNull()).show()"
   ]
  },
  {
   "cell_type": "code",
   "execution_count": null,
   "metadata": {},
   "outputs": [],
   "source": []
  }
 ],
 "metadata": {
  "kernelspec": {
   "display_name": "Python 3",
   "language": "python",
   "name": "python3"
  },
  "language_info": {
   "codemirror_mode": {
    "name": "ipython",
    "version": 3
   },
   "file_extension": ".py",
   "mimetype": "text/x-python",
   "name": "python",
   "nbconvert_exporter": "python",
   "pygments_lexer": "ipython3",
   "version": "3.10.12"
  }
 },
 "nbformat": 4,
 "nbformat_minor": 2
}
