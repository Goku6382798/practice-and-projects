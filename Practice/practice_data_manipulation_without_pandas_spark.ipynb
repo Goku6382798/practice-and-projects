{
 "cells": [
  {
   "cell_type": "code",
   "execution_count": 1,
   "metadata": {},
   "outputs": [],
   "source": [
    "orders = open('/home/gautam/airflow/retail_db/orders/part-00000').read().splitlines()"
   ]
  },
  {
   "cell_type": "code",
   "execution_count": 2,
   "metadata": {},
   "outputs": [],
   "source": [
    "order_items = open('/home/gautam/airflow/retail_db/order_items/part-00000').read().splitlines()"
   ]
  },
  {
   "cell_type": "code",
   "execution_count": 3,
   "metadata": {},
   "outputs": [],
   "source": [
    "categories = open('/home/gautam/airflow/retail_db/categories/part-00000').read().splitlines()"
   ]
  },
  {
   "cell_type": "code",
   "execution_count": 2,
   "metadata": {},
   "outputs": [],
   "source": [
    "customers = open('/home/gautam/airflow/retail_db/customers/part-00000').read().splitlines()"
   ]
  },
  {
   "cell_type": "code",
   "execution_count": 356,
   "metadata": {},
   "outputs": [],
   "source": [
    "products = open('/home/gautam/airflow/retail_db/products/part-00000').read().splitlines()"
   ]
  },
  {
   "cell_type": "markdown",
   "metadata": {},
   "source": [
    "Get the number of COMPLETE orders placed by each customer."
   ]
  },
  {
   "cell_type": "code",
   "execution_count": null,
   "metadata": {},
   "outputs": [],
   "source": [
    "orders[:10]"
   ]
  },
  {
   "cell_type": "code",
   "execution_count": null,
   "metadata": {},
   "outputs": [],
   "source": [
    "for order in orders:\n",
    "    if order.split(',')[-1] == 'COMPLETE':\n",
    "        print(order)"
   ]
  },
  {
   "cell_type": "code",
   "execution_count": 8,
   "metadata": {},
   "outputs": [],
   "source": [
    "def get_order_bystatus(orders, order_status):\n",
    "    result = []\n",
    "    for order in orders:\n",
    "        status = order.split(',')[-1]\n",
    "        if status == order_status:\n",
    "            result.append(order)\n",
    "    return result"
   ]
  },
  {
   "cell_type": "code",
   "execution_count": null,
   "metadata": {},
   "outputs": [],
   "source": [
    "get_order_bystatus(orders, 'CLOSED')"
   ]
  },
  {
   "cell_type": "code",
   "execution_count": null,
   "metadata": {},
   "outputs": [],
   "source": [
    "for order in orders:\n",
    "    if order.split(',')[1][:7] == \"2013-09\":\n",
    "        print(order)"
   ]
  },
  {
   "cell_type": "markdown",
   "metadata": {},
   "source": [
    "Get the total number of PENDING or PENDING_PAYMENT orders for the month of January 2014."
   ]
  },
  {
   "cell_type": "code",
   "execution_count": 39,
   "metadata": {},
   "outputs": [],
   "source": [
    "def get_order_by_status_month(orders, month, order_status):\n",
    "    result = []\n",
    "    for order in orders:\n",
    "        month_in_loop = order.split(',')[1][:7]\n",
    "        status = order.split(',')[-1]\n",
    "        if status in order_status and month_in_loop in month:\n",
    "            result.append(order)\n",
    "    return result"
   ]
  },
  {
   "cell_type": "code",
   "execution_count": null,
   "metadata": {},
   "outputs": [],
   "source": [
    "get_order_by_status_month(orders, '2014-01', {'PENDING','PENDING_PAYMENT'})[:10]"
   ]
  },
  {
   "cell_type": "code",
   "execution_count": null,
   "metadata": {},
   "outputs": [],
   "source": [
    "for order in orders:\n",
    "    month_in_loop = order.split(',')[1][:7]\n",
    "    status = order.split(',')[-1]\n",
    "    if month_in_loop in '2014-01' and status in ['PENDING', 'PENDING_PAYMENT']:\n",
    "        print(order) "
   ]
  },
  {
   "cell_type": "markdown",
   "metadata": {},
   "source": [
    "Get the total outstanding amount for each month considering orders with status PAYMENT_REVIEW, PENDING, PENDING_PAYMENT, and PROCESSING."
   ]
  },
  {
   "cell_type": "markdown",
   "metadata": {},
   "source": [
    "total_os_amount = {month : }"
   ]
  },
  {
   "cell_type": "code",
   "execution_count": null,
   "metadata": {},
   "outputs": [],
   "source": [
    "orders[:10]"
   ]
  },
  {
   "cell_type": "code",
   "execution_count": 50,
   "metadata": {},
   "outputs": [],
   "source": [
    "xyz = '1,2013-07-25 00:00:00.0,11599,CLOSED'"
   ]
  },
  {
   "cell_type": "code",
   "execution_count": null,
   "metadata": {},
   "outputs": [],
   "source": [
    "type(xyz.split(',')[-2][:10])"
   ]
  },
  {
   "cell_type": "code",
   "execution_count": null,
   "metadata": {},
   "outputs": [],
   "source": [
    "total_os_amount = 0\n",
    "for order in orders:\n",
    "    status = order.split(',')[-1]\n",
    "    if order.split(',')[1][:7] == '2013-07' and status == 'PENDING':\n",
    "        total_os_amount += int(order.split(',')[2])"
   ]
  },
  {
   "cell_type": "code",
   "execution_count": null,
   "metadata": {},
   "outputs": [],
   "source": [
    "print(total_os_amount)"
   ]
  },
  {
   "cell_type": "code",
   "execution_count": null,
   "metadata": {},
   "outputs": [],
   "source": [
    "haleluya = set()\n",
    "for order in orders:\n",
    "    month = order.split(',')[1][:7]\n",
    "    if month in order:\n",
    "        haleluya.add(month)\n",
    "\n",
    "print(haleluya) "
   ]
  },
  {
   "cell_type": "code",
   "execution_count": null,
   "metadata": {},
   "outputs": [],
   "source": [
    "type(haleluya)"
   ]
  },
  {
   "cell_type": "code",
   "execution_count": 59,
   "metadata": {},
   "outputs": [],
   "source": [
    "haleluya = list(haleluya)"
   ]
  },
  {
   "cell_type": "code",
   "execution_count": null,
   "metadata": {},
   "outputs": [],
   "source": [
    "type(haleluya)"
   ]
  },
  {
   "cell_type": "code",
   "execution_count": null,
   "metadata": {},
   "outputs": [],
   "source": [
    "haleluya"
   ]
  },
  {
   "cell_type": "code",
   "execution_count": null,
   "metadata": {},
   "outputs": [],
   "source": [
    "abc = {month: 0 for month in haleluya}"
   ]
  },
  {
   "cell_type": "code",
   "execution_count": null,
   "metadata": {},
   "outputs": [],
   "source": [
    "abc"
   ]
  },
  {
   "cell_type": "markdown",
   "metadata": {},
   "source": [
    "Get the total outstanding amount for each month considering orders with status PAYMENT_REVIEW, PENDING, PENDING_PAYMENT, and PROCESSING."
   ]
  },
  {
   "cell_type": "code",
   "execution_count": 90,
   "metadata": {},
   "outputs": [],
   "source": [
    "haleluya = {month: 0 for month in {order.split(',')[1][:7] for order in orders}}\n",
    "for order in orders:\n",
    "    order_status = order.split(',')[-1]\n",
    "    order_month = order.split(',')[1][:7]\n",
    "    if 'CLOSED' in order_status:\n",
    "        value = int(order.split(',')[-2])\n",
    "        haleluya[order_month] += value"
   ]
  },
  {
   "cell_type": "code",
   "execution_count": null,
   "metadata": {},
   "outputs": [],
   "source": [
    "haleluya"
   ]
  },
  {
   "cell_type": "code",
   "execution_count": 15,
   "metadata": {},
   "outputs": [],
   "source": [
    "def get_status_by_month(orders, order_status):\n",
    "    result = {month: 0 for month in {order.split(',')[1][:7] for order in orders}}\n",
    "    for order in orders:\n",
    "        status = order.split(',')[-1]\n",
    "        order_month = order.split(',')[1][:7]\n",
    "        if status in order_status:\n",
    "            value = int(order.split(',')[-2])\n",
    "            result[order_month] += value\n",
    "    return result"
   ]
  },
  {
   "cell_type": "code",
   "execution_count": null,
   "metadata": {},
   "outputs": [],
   "source": [
    "get_status_by_month(orders,'COMPLETE')"
   ]
  },
  {
   "cell_type": "code",
   "execution_count": 31,
   "metadata": {},
   "outputs": [],
   "source": [
    "def get_status_by_month2(orders, order_status):\n",
    "    \n",
    "    result = {month: 0 for month in {order.split(',')[1][:7] for order in orders}}\n",
    "    \n",
    "    for order in orders:\n",
    "        status = order.split(',')[-1]\n",
    "        order_month = order.split(',')[1][:7]\n",
    "        \n",
    "        if status in order_status:\n",
    "            value = int(order.split(',')[-2])\n",
    "            result[order_month] += value\n",
    "\n",
    "    return result  "
   ]
  },
  {
   "cell_type": "code",
   "execution_count": 89,
   "metadata": {},
   "outputs": [],
   "source": [
    "def get_status_by_month3(orders, order_status):\n",
    "    result = []\n",
    "    months = {order.split(',')[1][:7] for order in orders}\n",
    "    \n",
    "    for month in months:\n",
    "        total_value = 0        \n",
    "        for order in orders:\n",
    "            order_month = order.split(',')[1][:7]\n",
    "            status = order.split(',')[-1]\n",
    "            \n",
    "            if order_month == month and status in order_status:\n",
    "                total_value += int(order.split(',')[-2])\n",
    "        \n",
    "        result.append((month, total_value))    \n",
    "    return result"
   ]
  },
  {
   "cell_type": "code",
   "execution_count": null,
   "metadata": {},
   "outputs": [],
   "source": [
    "get_status_by_month3(orders, 'PENDING')"
   ]
  },
  {
   "cell_type": "code",
   "execution_count": null,
   "metadata": {},
   "outputs": [],
   "source": [
    "get_status_by_month2(orders, {'PENDING', 'PAYMENT_REVIEW', 'PENDING_PAYMENT'})"
   ]
  },
  {
   "cell_type": "code",
   "execution_count": null,
   "metadata": {},
   "outputs": [],
   "source": [
    "get_status_by_month2(orders, 'PENDING_PAYMENT')"
   ]
  },
  {
   "cell_type": "code",
   "execution_count": null,
   "metadata": {},
   "outputs": [],
   "source": [
    "get_status_by_month2(orders, 'PAYMENT_REVIEW')"
   ]
  },
  {
   "cell_type": "code",
   "execution_count": null,
   "metadata": {},
   "outputs": [],
   "source": [
    "get_status_by_month2(orders, 'PENDING')"
   ]
  },
  {
   "cell_type": "code",
   "execution_count": null,
   "metadata": {},
   "outputs": [],
   "source": [
    "ll = 0\n",
    "for order in orders:\n",
    "    order_month = order.split(',')[1][:7]\n",
    "    order_status = order.split(',')[-1]\n",
    "    if order_month in '2013-11' and order_status in ['PENDING_PAYMENT', 'PAYMENT_REVIEW', 'PENDING']:\n",
    "        ll += (int(order.split(',')[-2]))\n",
    "\n",
    "print(ll)"
   ]
  },
  {
   "cell_type": "code",
   "execution_count": null,
   "metadata": {},
   "outputs": [],
   "source": [
    "orders[:10]"
   ]
  },
  {
   "cell_type": "code",
   "execution_count": null,
   "metadata": {},
   "outputs": [],
   "source": [
    "Find the top 5 customers who placed the most number of orders."
   ]
  },
  {
   "cell_type": "code",
   "execution_count": null,
   "metadata": {},
   "outputs": [],
   "source": [
    "orders[:10]"
   ]
  },
  {
   "cell_type": "code",
   "execution_count": null,
   "metadata": {},
   "outputs": [],
   "source": [
    "customers"
   ]
  },
  {
   "cell_type": "code",
   "execution_count": null,
   "metadata": {},
   "outputs": [],
   "source": [
    "orders"
   ]
  },
  {
   "cell_type": "code",
   "execution_count": null,
   "metadata": {},
   "outputs": [],
   "source": [
    "order_items[:10]"
   ]
  },
  {
   "cell_type": "code",
   "execution_count": null,
   "metadata": {},
   "outputs": [],
   "source": [
    "order_customer_id = order.split(',')[-2]\n",
    "order_id = order.split[','][0]"
   ]
  },
  {
   "cell_type": "code",
   "execution_count": 55,
   "metadata": {},
   "outputs": [],
   "source": [
    "order_made = {customer_id: 0 for customer_id in {order.split(',')[-2] for order in orders}}"
   ]
  },
  {
   "cell_type": "code",
   "execution_count": null,
   "metadata": {},
   "outputs": [],
   "source": [
    "order_made"
   ]
  },
  {
   "cell_type": "code",
   "execution_count": null,
   "metadata": {},
   "outputs": [],
   "source": [
    "dict(sorted(order_made.items()))"
   ]
  },
  {
   "cell_type": "code",
   "execution_count": null,
   "metadata": {},
   "outputs": [],
   "source": [
    "len(order_made)"
   ]
  },
  {
   "cell_type": "code",
   "execution_count": null,
   "metadata": {},
   "outputs": [],
   "source": [
    "orders.count(56)"
   ]
  },
  {
   "cell_type": "code",
   "execution_count": 67,
   "metadata": {},
   "outputs": [],
   "source": [
    "hello = set()"
   ]
  },
  {
   "cell_type": "code",
   "execution_count": 69,
   "metadata": {},
   "outputs": [],
   "source": [
    "for order in orders:\n",
    "    customer_id = order.split(',')[-2]\n",
    "    hello.add(customer_id)"
   ]
  },
  {
   "cell_type": "code",
   "execution_count": null,
   "metadata": {},
   "outputs": [],
   "source": [
    "len(hello)"
   ]
  },
  {
   "cell_type": "code",
   "execution_count": null,
   "metadata": {},
   "outputs": [],
   "source": [
    "hello"
   ]
  },
  {
   "cell_type": "code",
   "execution_count": null,
   "metadata": {},
   "outputs": [],
   "source": [
    "type(hello)"
   ]
  },
  {
   "cell_type": "code",
   "execution_count": 75,
   "metadata": {},
   "outputs": [],
   "source": [
    "hello = sorted(hello)"
   ]
  },
  {
   "cell_type": "code",
   "execution_count": 97,
   "metadata": {},
   "outputs": [],
   "source": [
    "results = []\n",
    "customers = sorted({order.split(',')[-2] for order in orders})"
   ]
  },
  {
   "cell_type": "code",
   "execution_count": null,
   "metadata": {},
   "outputs": [],
   "source": []
  },
  {
   "cell_type": "code",
   "execution_count": null,
   "metadata": {},
   "outputs": [],
   "source": [
    "def get_status_by_month3(orders, order_status):\n",
    "    result = []\n",
    "    months = {order.split(',')[1][:7] for order in orders}\n",
    "    \n",
    "    for month in months:\n",
    "        total_value = 0        \n",
    "        for order in orders:\n",
    "            order_month = order.split(',')[1][:7]\n",
    "            status = order.split(',')[-1]\n",
    "            \n",
    "            if order_month == month and status in order_status:\n",
    "                total_value += int(order.split(',')[-2])\n",
    "        \n",
    "        result.append((month, total_value))    \n",
    "    return result"
   ]
  },
  {
   "cell_type": "code",
   "execution_count": null,
   "metadata": {},
   "outputs": [],
   "source": [
    "orders[:10]"
   ]
  },
  {
   "cell_type": "code",
   "execution_count": null,
   "metadata": {},
   "outputs": [],
   "source": [
    "result = []\n",
    "customers = sorted({order.split(',')[-2] for order in orders})\n",
    "for customer in customers:\n",
    "    total_value = 0        \n",
    "    for order in orders:\n",
    "        customer_id = order.split(',')[-2]\n",
    "            \n",
    "        if customer_id == customer:\n",
    "            total_value += 1\n",
    "        \n",
    "    result.append((customer, total_value))\n",
    "    \n",
    "print(result)"
   ]
  },
  {
   "cell_type": "code",
   "execution_count": null,
   "metadata": {},
   "outputs": [],
   "source": [
    "type(result)"
   ]
  },
  {
   "cell_type": "code",
   "execution_count": 111,
   "metadata": {},
   "outputs": [],
   "source": [
    "sorted_list = sorted(result, key=lambda x: x[1], reverse=True)"
   ]
  },
  {
   "cell_type": "code",
   "execution_count": null,
   "metadata": {},
   "outputs": [],
   "source": [
    "ranked_list = [(rank + 1, customer_id, orders) for rank, (customer_id, orders) in enumerate(sorted_list)]\n",
    "for item in ranked_list:\n",
    "    print(item)"
   ]
  },
  {
   "cell_type": "code",
   "execution_count": 119,
   "metadata": {},
   "outputs": [],
   "source": [
    "def get_rank_order(orders):\n",
    "    result = []\n",
    "    top5 = []\n",
    "    customers = sorted({order.split(',')[-2] for order in orders})\n",
    "    for customer in customers:\n",
    "        total_value = 0        \n",
    "        for order in orders:\n",
    "            customer_id = order.split(',')[-2]\n",
    "            if customer_id == customer:\n",
    "                total_value += 1\n",
    "    \n",
    "        result.append((customer, total_value))\n",
    "    \n",
    "    sorted_list = sorted(result, key=lambda x: x[1], reverse=True)\n",
    "    ranked_list = [(rank + 1, customer_id, orders) for rank, (customer_id, orders) in enumerate(sorted_list)][:5]\n",
    "    for item in ranked_list:\n",
    "        top5.append(item)\n",
    "\n",
    "    return top5"
   ]
  },
  {
   "cell_type": "code",
   "execution_count": null,
   "metadata": {},
   "outputs": [],
   "source": [
    "get_rank_order(orders)"
   ]
  },
  {
   "cell_type": "code",
   "execution_count": null,
   "metadata": {},
   "outputs": [],
   "source": [
    "def get_rank_order(orders):\n",
    "    result = []\n",
    "    top5 = []\n",
    "    \n",
    "    # Step 1: Get unique customers\n",
    "    customers = {order.split(',')[-2] for order in orders}\n",
    "    \n",
    "    # Step 2: Count the total orders per customer\n",
    "    for customer in customers:\n",
    "        total_value = 0\n",
    "        for order in orders:\n",
    "            customer_id = order.split(',')[-2]\n",
    "            if customer_id == customer:\n",
    "                total_value += 1\n",
    "        result.append((customer, total_value))\n",
    "    \n",
    "    # Step 3: Sort the customers by total orders in descending order\n",
    "    sorted_list = sorted(result, key=lambda x: x[1], reverse=True)\n",
    "    \n",
    "    # Step 4: Get the top 5 customers\n",
    "    ranked_list = [(rank + 1, customer_id, total_orders) for rank, (customer_id, total_orders) in enumerate(sorted_list[:5])]\n",
    "\n",
    "    return ranked_list\n"
   ]
  },
  {
   "cell_type": "markdown",
   "metadata": {},
   "source": [
    "Count the total number of orders placed each month."
   ]
  },
  {
   "cell_type": "code",
   "execution_count": 124,
   "metadata": {},
   "outputs": [],
   "source": [
    "months = {order.split(',')[1][:7] for order in orders}"
   ]
  },
  {
   "cell_type": "code",
   "execution_count": null,
   "metadata": {},
   "outputs": [],
   "source": [
    "type(months)\n",
    "print(months)"
   ]
  },
  {
   "cell_type": "code",
   "execution_count": null,
   "metadata": {},
   "outputs": [],
   "source": [
    "months = {order.split(',')[1][:7] for order in orders}\n",
    "result = []\n",
    "for month in months:\n",
    "    total_value = 0\n",
    "    for order in orders:\n",
    "        order_month = order.split(',')[1][:7]\n",
    "        if order_month == month:\n",
    "            total_value += 1\n",
    "    \n",
    "    result.append((month, total_value))\n",
    "\n",
    "print(result)"
   ]
  },
  {
   "cell_type": "code",
   "execution_count": 140,
   "metadata": {},
   "outputs": [],
   "source": [
    "def order_per_month(orders):\n",
    "    months = {order.split(',')[1][:7] for order in orders}\n",
    "    result = []\n",
    "    for month in months:\n",
    "        total_value = 0\n",
    "        for order in orders:\n",
    "            order_month = order.split(',')[1][:7]\n",
    "            if order_month == month:\n",
    "                total_value += 1\n",
    "    \n",
    "        result.extend([month, total_value])\n",
    "\n",
    "    return result"
   ]
  },
  {
   "cell_type": "code",
   "execution_count": null,
   "metadata": {},
   "outputs": [],
   "source": [
    "order_per_month(orders)"
   ]
  },
  {
   "cell_type": "code",
   "execution_count": null,
   "metadata": {},
   "outputs": [],
   "source": [
    "xyz = {month: 0 for month in {order.split(',')[1][:7] for order in orders}}\n",
    "print(xyz)"
   ]
  },
  {
   "cell_type": "code",
   "execution_count": null,
   "metadata": {},
   "outputs": [],
   "source": [
    "order_made = {customer_id: 0 for customer_id in {order.split(',')[-2] for order in orders}}"
   ]
  },
  {
   "cell_type": "code",
   "execution_count": null,
   "metadata": {},
   "outputs": [],
   "source": [
    "orders[:10]"
   ]
  },
  {
   "cell_type": "markdown",
   "metadata": {},
   "source": [
    "Get the number of orders per order status."
   ]
  },
  {
   "cell_type": "code",
   "execution_count": 148,
   "metadata": {},
   "outputs": [],
   "source": [
    "order_status = {order.split(',')[-1] for order in orders}"
   ]
  },
  {
   "cell_type": "code",
   "execution_count": null,
   "metadata": {},
   "outputs": [],
   "source": [
    "order_status"
   ]
  },
  {
   "cell_type": "code",
   "execution_count": null,
   "metadata": {},
   "outputs": [],
   "source": [
    "order_status = {order.split(',')[-1] for order in orders}\n",
    "result = []\n",
    "for order_s in order_status:\n",
    "    total_value = 0\n",
    "    for order in orders:\n",
    "        order_stat = order.split(',')[-1]\n",
    "        if order_stat in order_s:\n",
    "            total_value += 1\n",
    "\n",
    "    result.extend([order_s, total_value])\n",
    "print(result)"
   ]
  },
  {
   "cell_type": "code",
   "execution_count": 151,
   "metadata": {},
   "outputs": [],
   "source": [
    "def get_order_status_count(orders):\n",
    "    order_status = {order.split(',')[-1] for order in orders}\n",
    "    result = []\n",
    "    for order_s in order_status:\n",
    "        total_value = 0\n",
    "        for order in orders:\n",
    "            order_stat = order.split(',')[-1]\n",
    "            if order_stat in order_s:\n",
    "                total_value += 1\n",
    "\n",
    "        result.extend([order_s, total_value])\n",
    "    return result"
   ]
  },
  {
   "cell_type": "code",
   "execution_count": null,
   "metadata": {},
   "outputs": [],
   "source": [
    "print(get_order_status_count(orders))"
   ]
  },
  {
   "cell_type": "markdown",
   "metadata": {},
   "source": [
    "Find all orders placed on Black Friday (2013-11-29)."
   ]
  },
  {
   "cell_type": "code",
   "execution_count": null,
   "metadata": {},
   "outputs": [],
   "source": [
    "orders[:10]"
   ]
  },
  {
   "cell_type": "code",
   "execution_count": 161,
   "metadata": {},
   "outputs": [],
   "source": [
    "def all_order_placed_friday_count(orders):\n",
    "    result = []\n",
    "    value = 0\n",
    "    for order in orders:\n",
    "        black_friday = '2013-11-29'\n",
    "        if black_friday in order:\n",
    "            value += 1\n",
    "            result.extend([black_friday, value])\n",
    "    return value"
   ]
  },
  {
   "cell_type": "code",
   "execution_count": null,
   "metadata": {},
   "outputs": [],
   "source": [
    "all_order_placed_friday_count(orders)"
   ]
  },
  {
   "cell_type": "code",
   "execution_count": 163,
   "metadata": {},
   "outputs": [],
   "source": [
    "def all_order_placed_friday(orders):\n",
    "    result = []\n",
    "    black_friday = '2013-11-29'\n",
    "    \n",
    "    for order in orders:\n",
    "        if black_friday in order:\n",
    "            result.append(order)  # Add the full order details\n",
    "    \n",
    "    return result  # Return all matching orders\n"
   ]
  },
  {
   "cell_type": "code",
   "execution_count": null,
   "metadata": {},
   "outputs": [],
   "source": [
    "all_order_placed_friday(orders)"
   ]
  },
  {
   "cell_type": "code",
   "execution_count": 165,
   "metadata": {},
   "outputs": [],
   "source": [
    "def all_order_placed_friday2(orders):\n",
    "    black_friday = '2013-11-29'\n",
    "    value = sum(1 for order in orders if black_friday in order)\n",
    "    return value\n"
   ]
  },
  {
   "cell_type": "code",
   "execution_count": null,
   "metadata": {},
   "outputs": [],
   "source": [
    "all_order_placed_friday2(orders)"
   ]
  },
  {
   "cell_type": "markdown",
   "metadata": {},
   "source": [
    "Find the number of orders per day in December 2013."
   ]
  },
  {
   "cell_type": "code",
   "execution_count": 184,
   "metadata": {},
   "outputs": [],
   "source": [
    "unique_days_dec_13 = {order.split(',')[1][:10] for order in orders if order.split(',')[1][:7] == '2013-12'}"
   ]
  },
  {
   "cell_type": "code",
   "execution_count": null,
   "metadata": {},
   "outputs": [],
   "source": [
    "unique_days_dec_13"
   ]
  },
  {
   "cell_type": "code",
   "execution_count": null,
   "metadata": {},
   "outputs": [],
   "source": [
    "abc = set()  # Using a set to store unique days\n",
    "\n",
    "for order in orders:\n",
    "    order_month = order.split(',')[1][:7]  # Extract YYYY-MM\n",
    "    order_day = order.split(',')[1][:10]   # Extract YYYY-MM-DD\n",
    "    \n",
    "    if order_month == '2013-12':  # Filter only December 2013\n",
    "        abc.add(order_day)  # Store unique days\n",
    "\n",
    "print(abc)  # Print unique days as a set\n"
   ]
  },
  {
   "cell_type": "code",
   "execution_count": null,
   "metadata": {},
   "outputs": [],
   "source": [
    "unique_days_dec_13 = {order.split(',')[1][:10] for order in orders if order.split(',')[1][:7] == '2013-12'}\n",
    "result = []\n",
    "for unique_day in unique_days_dec_13:\n",
    "    total_value = 0\n",
    "    for order in orders:\n",
    "        xyz = order.split(',')[1][:10]\n",
    "        if xyz in unique_day:\n",
    "            total_value += 1\n",
    "    result.extend((unique_day, total_value))\n",
    "\n",
    "print(result)"
   ]
  },
  {
   "cell_type": "code",
   "execution_count": 193,
   "metadata": {},
   "outputs": [],
   "source": [
    "def number_of_orders_per_month(orders, order_month):\n",
    "    unique_days = {order.split(',')[1][:10] for order in orders if order.split(',')[1][:7] == order_month}\n",
    "    result = []\n",
    "    for unique_day in unique_days:\n",
    "        total_value = 0\n",
    "        for order in orders:\n",
    "            xyz = order.split(',')[1][:10]\n",
    "            if xyz == unique_day:\n",
    "                total_value += 1\n",
    "        result.append((unique_day, total_value))\n",
    "\n",
    "    return result"
   ]
  },
  {
   "cell_type": "code",
   "execution_count": null,
   "metadata": {},
   "outputs": [],
   "source": [
    "number_of_orders_per_month(orders, '2013-12')"
   ]
  },
  {
   "cell_type": "markdown",
   "metadata": {},
   "source": [
    "Find the number of orders per weekday (e.g., Monday, Tuesday)."
   ]
  },
  {
   "cell_type": "code",
   "execution_count": null,
   "metadata": {},
   "outputs": [],
   "source": [
    "orders[:10]"
   ]
  },
  {
   "cell_type": "code",
   "execution_count": 206,
   "metadata": {},
   "outputs": [],
   "source": [
    "abc = {order.split(',')[1][:10] for order in orders if order.split(',')[1][:7] == '2013-08'}"
   ]
  },
  {
   "cell_type": "code",
   "execution_count": null,
   "metadata": {},
   "outputs": [],
   "source": [
    "abc"
   ]
  },
  {
   "cell_type": "code",
   "execution_count": null,
   "metadata": {},
   "outputs": [],
   "source": [
    "orders[:10]"
   ]
  },
  {
   "cell_type": "code",
   "execution_count": 213,
   "metadata": {},
   "outputs": [],
   "source": [
    "from datetime import datetime\n",
    "\n",
    "def orders_per_weekday(orders):\n",
    "    days_count = {}\n",
    "\n",
    "    for order in orders:\n",
    "        order_date = order.split(',')[1][:10]  # Extract 'YYYY-MM-DD'\n",
    "        weekday = datetime.strptime(order_date, '%Y-%m-%d').strftime('%A')  # Convert to weekday name\n",
    "        \n",
    "        # Count occurrences\n",
    "        days_count[weekday] = days_count.get(weekday, 0) + 1\n",
    "\n",
    "    return days_count"
   ]
  },
  {
   "cell_type": "code",
   "execution_count": null,
   "metadata": {},
   "outputs": [],
   "source": [
    "orders_per_weekday(orders)"
   ]
  },
  {
   "cell_type": "code",
   "execution_count": null,
   "metadata": {},
   "outputs": [],
   "source": [
    "orders[:10]"
   ]
  },
  {
   "cell_type": "code",
   "execution_count": 219,
   "metadata": {},
   "outputs": [],
   "source": [
    "from datetime import datetime"
   ]
  },
  {
   "cell_type": "code",
   "execution_count": null,
   "metadata": {},
   "outputs": [],
   "source": [
    "a = '2013-07-25 00:00:00.0'\n",
    "datetime.strptime(a[:10], '%Y-%m-%d')"
   ]
  },
  {
   "cell_type": "code",
   "execution_count": null,
   "metadata": {},
   "outputs": [],
   "source": [
    "datetime.strptime(a[:10], '%Y-%m-%d').strftime('%A')"
   ]
  },
  {
   "cell_type": "markdown",
   "metadata": {},
   "source": [
    "Get the total number of orders for each year."
   ]
  },
  {
   "cell_type": "code",
   "execution_count": 228,
   "metadata": {},
   "outputs": [],
   "source": [
    "years = {order.split(',')[1][:4] for order in orders}"
   ]
  },
  {
   "cell_type": "code",
   "execution_count": null,
   "metadata": {},
   "outputs": [],
   "source": [
    "years"
   ]
  },
  {
   "cell_type": "code",
   "execution_count": null,
   "metadata": {},
   "outputs": [],
   "source": [
    "years = {order.split(',')[1][:4] for order in orders}\n",
    "result = []\n",
    "for year in years:\n",
    "    value = 0\n",
    "    for order in orders:\n",
    "        xyz = order.split(',')[1][:4]\n",
    "        if xyz in year:\n",
    "            value += 1\n",
    "    result.extend([year, value])\n",
    "print(result)\n"
   ]
  },
  {
   "cell_type": "code",
   "execution_count": 246,
   "metadata": {},
   "outputs": [],
   "source": [
    "def get_yearly_number_of_orders(orders):\n",
    "    years = {order.split(',')[1][:4] for order in orders}\n",
    "    result = []\n",
    "    for year in years:\n",
    "        value = 0\n",
    "        for order in orders:\n",
    "            xyz = order.split(',')[1][:4]\n",
    "            if xyz in year:\n",
    "                value += 1\n",
    "        result.extend([year, value])\n",
    "    return result\n"
   ]
  },
  {
   "cell_type": "code",
   "execution_count": null,
   "metadata": {},
   "outputs": [],
   "source": [
    "get_yearly_number_of_orders(orders)"
   ]
  },
  {
   "cell_type": "code",
   "execution_count": null,
   "metadata": {},
   "outputs": [],
   "source": [
    "get_yearly_number_of_orders(orders)[1]"
   ]
  },
  {
   "cell_type": "code",
   "execution_count": null,
   "metadata": {},
   "outputs": [],
   "source": [
    "orders[1]"
   ]
  },
  {
   "cell_type": "markdown",
   "metadata": {},
   "source": [
    "Identify customers who have placed only one order."
   ]
  },
  {
   "cell_type": "code",
   "execution_count": 251,
   "metadata": {},
   "outputs": [],
   "source": [
    "customers = {order.split(',')[-2] for order in orders}"
   ]
  },
  {
   "cell_type": "code",
   "execution_count": null,
   "metadata": {},
   "outputs": [],
   "source": [
    "len(customers)"
   ]
  },
  {
   "cell_type": "code",
   "execution_count": null,
   "metadata": {},
   "outputs": [],
   "source": [
    "customers = {order.split(',')[-2] for order in orders}\n",
    "xyz2 = []\n",
    "for customer in customers:\n",
    "    value = 0\n",
    "    for order in orders:\n",
    "        cust = order.split(',')[-2]\n",
    "        if cust == customer:\n",
    "            value += 1\n",
    "    xyz2.extend([customer, value])\n",
    "print(xyz2)\n"
   ]
  },
  {
   "cell_type": "code",
   "execution_count": null,
   "metadata": {},
   "outputs": [],
   "source": [
    "customers = {customer: 0 for customer in {order.split(',')[-2] for order in orders}}\n",
    "\n",
    "for order in orders:\n",
    "    cust = order.split(',')[-2]\n",
    "    customers[cust] += 1\n",
    "for customer, count in customers.items():\n",
    "    if count == 1:\n",
    "        print(customer)"
   ]
  },
  {
   "cell_type": "code",
   "execution_count": 290,
   "metadata": {},
   "outputs": [],
   "source": [
    "def customer_with_order_quantity(orders, quantity):\n",
    "    customers = {customer: 0 for customer in {order.split(',')[-2] for order in orders}}\n",
    "    result = []\n",
    "    for order in orders:\n",
    "        cust = order.split(',')[-2]\n",
    "        customers[cust] += 1\n",
    "    for customer, count in customers.items():\n",
    "        if count == quantity:\n",
    "            result.append((customer, count))\n",
    "    return result"
   ]
  },
  {
   "cell_type": "code",
   "execution_count": null,
   "metadata": {},
   "outputs": [],
   "source": [
    "def customer_with_order_quantity(orders, quantity):\n",
    "    customers = {customer: {'order_count': 0} for customer in {order.split(',')[-2] for order in orders}}\n",
    "    for order in orders:\n",
    "        cust = order.split(',')[-2]\n",
    "        customers[cust]['order_count'] += 1\n",
    "    \n",
    "    result = []\n",
    "    for customer, info in customers.items():\n",
    "        if info['order_count'] == quantity:\n",
    "            result.append((customer, info['order_count']))\n",
    "    \n",
    "    return result\n"
   ]
  },
  {
   "cell_type": "code",
   "execution_count": null,
   "metadata": {},
   "outputs": [],
   "source": [
    "customer_with_order_quantity(orders, 1)"
   ]
  },
  {
   "cell_type": "markdown",
   "metadata": {},
   "source": [
    "Get the earliest order date for each customer."
   ]
  },
  {
   "cell_type": "code",
   "execution_count": 295,
   "metadata": {},
   "outputs": [],
   "source": [
    "customers = sorted({order.split(',')[-2] for order in orders})"
   ]
  },
  {
   "cell_type": "code",
   "execution_count": null,
   "metadata": {},
   "outputs": [],
   "source": [
    "orders[:10]"
   ]
  },
  {
   "cell_type": "markdown",
   "metadata": {},
   "source": [
    "Get the earliest order date for each customer."
   ]
  },
  {
   "cell_type": "code",
   "execution_count": 314,
   "metadata": {},
   "outputs": [],
   "source": [
    "customers = {order.split(',')[-2] for order in orders}"
   ]
  },
  {
   "cell_type": "code",
   "execution_count": 320,
   "metadata": {},
   "outputs": [],
   "source": [
    "import datetime as datatime\n",
    "dates = {order.split(',')[1][:10] for order in orders if order.split(',')[1][:7] == '2013-12'}"
   ]
  },
  {
   "cell_type": "code",
   "execution_count": 328,
   "metadata": {},
   "outputs": [],
   "source": [
    "dates = list(dates)"
   ]
  },
  {
   "cell_type": "code",
   "execution_count": null,
   "metadata": {},
   "outputs": [],
   "source": [
    "dates[2]\n",
    "weekday = datetime.strptime(dates[2], '%Y-%m-%d').strftime(%Y%m%d)"
   ]
  },
  {
   "cell_type": "code",
   "execution_count": null,
   "metadata": {},
   "outputs": [],
   "source": [
    "weekday"
   ]
  },
  {
   "cell_type": "code",
   "execution_count": null,
   "metadata": {},
   "outputs": [],
   "source": [
    "from datetime import datetime\n",
    "\n",
    "date_str = \"2023-12-17 14:30:45\"\n",
    "\n",
    "# Convert string to datetime object\n",
    "date_obj = datetime.strptime(date_str, \"%Y-%m-%d %H:%M:%S\")\n",
    "\n",
    "# Convert datetime object back to different string formats\n",
    "formatted_1 = date_obj.strftime(\"%d-%m-%Y\")  # Output: '17-12-2023'\n",
    "formatted_2 = date_obj.strftime(\"%A, %B %d, %Y\")  # Output: 'Sunday, December 17, 2023'\n",
    "formatted_3 = date_obj.strftime(\"%Y%m%d\")  # Output: '20231217'\n",
    "\n",
    "print(formatted_1)\n",
    "print(formatted_2)\n",
    "print(formatted_3)\n"
   ]
  },
  {
   "cell_type": "markdown",
   "metadata": {},
   "source": [
    "Get the earliest order date for each customer."
   ]
  },
  {
   "cell_type": "code",
   "execution_count": null,
   "metadata": {},
   "outputs": [],
   "source": [
    "l = dates[3]\n",
    "l"
   ]
  },
  {
   "cell_type": "code",
   "execution_count": null,
   "metadata": {},
   "outputs": [],
   "source": [
    "s = datetime.strptime(l, \"%Y-%m-%d\")\n",
    "print(s)\n",
    "datetime.strftime(s, '%Y%m%y')"
   ]
  },
  {
   "cell_type": "code",
   "execution_count": null,
   "metadata": {},
   "outputs": [],
   "source": [
    "value = []\n",
    "for date in dates:\n",
    "    non_formatted = datetime.strptime(date, '%Y-%m-%d')\n",
    "    formatted = datetime.strftime(non_formatted, '%Y%m%d')\n",
    "    value.append(formatted)\n",
    "\n",
    "value.sort()\n",
    "print(value)"
   ]
  },
  {
   "cell_type": "code",
   "execution_count": null,
   "metadata": {},
   "outputs": [],
   "source": [
    "type(value)"
   ]
  },
  {
   "cell_type": "code",
   "execution_count": 348,
   "metadata": {},
   "outputs": [],
   "source": [
    "def earliest_order_per_customer(orders):\n",
    "    customer_orders = {}\n",
    "\n",
    "    for order in orders:\n",
    "        parts = order.split(',')\n",
    "        order_date = parts[1][:10]\n",
    "        customer_id = parts[2]  \n",
    "\n",
    "        \n",
    "        if customer_id not in customer_orders or order_date < customer_orders[customer_id]:\n",
    "            customer_orders[customer_id] = order_date\n",
    "\n",
    "    return customer_orders"
   ]
  },
  {
   "cell_type": "code",
   "execution_count": null,
   "metadata": {},
   "outputs": [],
   "source": [
    "earliest_orders = earliest_order_per_customer(orders)\n",
    "print(earliest_orders)"
   ]
  },
  {
   "cell_type": "markdown",
   "metadata": {},
   "source": [
    "Find the total number of orders per city."
   ]
  },
  {
   "cell_type": "code",
   "execution_count": null,
   "metadata": {},
   "outputs": [],
   "source": [
    "customers[:10]"
   ]
  },
  {
   "cell_type": "code",
   "execution_count": 361,
   "metadata": {},
   "outputs": [],
   "source": [
    "sa = set()\n",
    "for customer in customers:\n",
    "    town = customer.split(',')[-3]\n",
    "    sa.add(town)"
   ]
  },
  {
   "cell_type": "code",
   "execution_count": null,
   "metadata": {},
   "outputs": [],
   "source": [
    "type(sa)"
   ]
  },
  {
   "cell_type": "code",
   "execution_count": 364,
   "metadata": {},
   "outputs": [],
   "source": [
    "sa = list(sa)"
   ]
  },
  {
   "cell_type": "code",
   "execution_count": null,
   "metadata": {},
   "outputs": [],
   "source": [
    "type(sa)"
   ]
  },
  {
   "cell_type": "code",
   "execution_count": 367,
   "metadata": {},
   "outputs": [],
   "source": [
    "sa.sort()"
   ]
  },
  {
   "cell_type": "code",
   "execution_count": null,
   "metadata": {},
   "outputs": [],
   "source": [
    "sa"
   ]
  },
  {
   "cell_type": "code",
   "execution_count": 372,
   "metadata": {},
   "outputs": [],
   "source": [
    "citys = [customer.split(',')[-3] for customer in customers]"
   ]
  },
  {
   "cell_type": "code",
   "execution_count": null,
   "metadata": {},
   "outputs": [],
   "source": [
    "type(citys)"
   ]
  },
  {
   "cell_type": "code",
   "execution_count": null,
   "metadata": {},
   "outputs": [],
   "source": [
    "customers[:10]"
   ]
  },
  {
   "cell_type": "code",
   "execution_count": 379,
   "metadata": {},
   "outputs": [],
   "source": [
    "data = []\n",
    "for customer in customers:\n",
    "    customer_id = customer.split(',')[0]\n",
    "    city = customer.split(',')[-3]\n",
    "    data.append(f\"{customer_id},{city}\")"
   ]
  },
  {
   "cell_type": "code",
   "execution_count": null,
   "metadata": {},
   "outputs": [],
   "source": [
    "data"
   ]
  },
  {
   "cell_type": "code",
   "execution_count": 385,
   "metadata": {},
   "outputs": [],
   "source": [
    "data2 = [f\"{customer.split(',')[0]},{customer.split(',')[-3]}\" for customer in customers]"
   ]
  },
  {
   "cell_type": "code",
   "execution_count": null,
   "metadata": {},
   "outputs": [],
   "source": [
    "data2[1]"
   ]
  },
  {
   "cell_type": "code",
   "execution_count": 3,
   "metadata": {},
   "outputs": [],
   "source": [
    "cities = [f\"{customer.split(',')[0]},{customer.split(',')[-3]}\" for customer in customers]"
   ]
  },
  {
   "cell_type": "code",
   "execution_count": null,
   "metadata": {},
   "outputs": [],
   "source": [
    "\n",
    "result = []\n",
    "for city in cities:\n",
    "    cust_id, city_name = city.split(',')\n",
    "    value = 0\n",
    "    for order in orders:\n",
    "        cust_id = city[0]\n",
    "        \n",
    "        if order.split(',')[-2] == cust_id:\n",
    "            value += 1\n",
    "        result.append(f\"{cust_id},{city},{value}\")\n",
    "print(result)"
   ]
  },
  {
   "cell_type": "code",
   "execution_count": null,
   "metadata": {},
   "outputs": [],
   "source": []
  },
  {
   "cell_type": "code",
   "execution_count": null,
   "metadata": {},
   "outputs": [],
   "source": []
  }
 ],
 "metadata": {
  "kernelspec": {
   "display_name": "Python 3",
   "language": "python",
   "name": "python3"
  },
  "language_info": {
   "codemirror_mode": {
    "name": "ipython",
    "version": 3
   },
   "file_extension": ".py",
   "mimetype": "text/x-python",
   "name": "python",
   "nbconvert_exporter": "python",
   "pygments_lexer": "ipython3",
   "version": "3.10.12"
  }
 },
 "nbformat": 4,
 "nbformat_minor": 2
}
